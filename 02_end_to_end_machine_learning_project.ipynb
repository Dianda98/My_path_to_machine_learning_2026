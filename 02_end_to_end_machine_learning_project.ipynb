{
  "cells": [
    {
      "cell_type": "markdown",
      "metadata": {
        "id": "_zGZ666_TC2T"
      },
      "source": [
        "**Chapter 2 – End-to-end Machine Learning project**"
      ]
    },
    {
      "cell_type": "markdown",
      "metadata": {
        "id": "pvPT3YTFTC2d"
      },
      "source": [
        "*This notebook contains all the sample code and solutions to the exercises in chapter 2.*"
      ]
    },
    {
      "cell_type": "markdown",
      "metadata": {
        "id": "AAXdpsS3TC2f"
      },
      "source": [
        "<table align=\"left\">\n",
        "  <td>\n",
        "    <a href=\"https://colab.research.google.com/github/ageron/handson-ml3/blob/main/02_end_to_end_machine_learning_project.ipynb\" target=\"_parent\"><img src=\"https://colab.research.google.com/assets/colab-badge.svg\" alt=\"Open In Colab\"/></a>\n",
        "  </td>\n",
        "  <td>\n",
        "    <a target=\"_blank\" href=\"https://kaggle.com/kernels/welcome?src=https://github.com/ageron/handson-ml3/blob/main/02_end_to_end_machine_learning_project.ipynb\"><img src=\"https://kaggle.com/static/images/open-in-kaggle.svg\" /></a>\n",
        "  </td>\n",
        "</table>"
      ]
    },
    {
      "cell_type": "code",
      "execution_count": 4,
      "metadata": {
        "colab": {
          "base_uri": "https://localhost:8080/"
        },
        "id": "AWSFvFaGTC2h",
        "outputId": "6302d83d-4f06-4625-dbf4-d397f371d254"
      },
      "outputs": [
        {
          "output_type": "stream",
          "name": "stdout",
          "text": [
            "Welcome to Machine Learning!\n"
          ]
        }
      ],
      "source": [
        "print(\"Welcome to Machine Learning!\")"
      ]
    },
    {
      "cell_type": "markdown",
      "metadata": {
        "id": "7_cR5k_2TC2l"
      },
      "source": [
        "This project requires Python 3.7 or above:"
      ]
    },
    {
      "cell_type": "code",
      "source": [
        "x = 3\n",
        "if x >= 2:\n",
        "  print(\"I totaly take my decison to be a data scientist in less than 4 months\")"
      ],
      "metadata": {
        "colab": {
          "base_uri": "https://localhost:8080/"
        },
        "id": "Vh0aC0ZXTIek",
        "outputId": "babd5b0e-06ca-4d3c-ad6f-bc57803d6248"
      },
      "execution_count": 5,
      "outputs": [
        {
          "output_type": "stream",
          "name": "stdout",
          "text": [
            "I totaly take my decison to be a data scientist in less than 4 months\n"
          ]
        }
      ]
    },
    {
      "cell_type": "code",
      "source": [
        "from google.colab import drive\n",
        "drive.mount('/content/drive')"
      ],
      "metadata": {
        "colab": {
          "base_uri": "https://localhost:8080/"
        },
        "id": "hxFjnYWdTzC_",
        "outputId": "7b2f3217-19ad-4513-90b2-1cfe5264f13e"
      },
      "execution_count": 9,
      "outputs": [
        {
          "output_type": "stream",
          "name": "stdout",
          "text": [
            "Mounted at /content/drive\n"
          ]
        }
      ]
    },
    {
      "cell_type": "code",
      "execution_count": 7,
      "metadata": {
        "id": "-mwGNj8gTC2m"
      },
      "outputs": [],
      "source": [
        "import sys\n",
        "\n",
        "assert sys.version_info >= (3, 7)"
      ]
    },
    {
      "cell_type": "markdown",
      "metadata": {
        "id": "dhk9a0HfTC2o"
      },
      "source": [
        "It also requires Scikit-Learn ≥ 1.0.1:"
      ]
    },
    {
      "cell_type": "code",
      "execution_count": null,
      "metadata": {
        "id": "20cH4GdzTC2q"
      },
      "outputs": [],
      "source": [
        "from packaging import version\n",
        "import sklearn\n",
        "\n",
        "assert version.parse(sklearn.__version__) >= version.parse(\"1.0.1\")"
      ]
    },
    {
      "cell_type": "markdown",
      "metadata": {
        "id": "o4gDAn6TTC2r"
      },
      "source": [
        "# Get the Data"
      ]
    },
    {
      "cell_type": "markdown",
      "metadata": {
        "id": "hZA1WNzlTC2s"
      },
      "source": [
        "*Welcome to Machine Learning Housing Corp.! Your task is to predict median house values in Californian districts, given a number of features from these districts.*"
      ]
    },
    {
      "cell_type": "markdown",
      "metadata": {
        "id": "f3vBZvxbTC2s"
      },
      "source": [
        "## Download the Data"
      ]
    },
    {
      "cell_type": "code",
      "execution_count": 10,
      "metadata": {
        "colab": {
          "base_uri": "https://localhost:8080/"
        },
        "id": "MW_AQA9ETC2t",
        "outputId": "e2a7f45b-18bb-4a63-bb02-ff423786b06f"
      },
      "outputs": [
        {
          "output_type": "stream",
          "name": "stderr",
          "text": [
            "/tmp/ipython-input-2839428726.py:13: DeprecationWarning: Python 3.14 will, by default, filter extracted tar archives and reject files or modify their metadata. Use the filter argument to control this behavior.\n",
            "  housing_tarball.extractall(path=\"datasets\")\n"
          ]
        }
      ],
      "source": [
        "from pathlib import Path\n",
        "import pandas as pd\n",
        "import tarfile\n",
        "import urllib.request\n",
        "\n",
        "def load_housing_data():\n",
        "    tarball_path = Path(\"datasets/housing.tgz\")\n",
        "    if not tarball_path.is_file():\n",
        "        Path(\"datasets\").mkdir(parents=True, exist_ok=True)\n",
        "        url = \"https://github.com/ageron/data/raw/main/housing.tgz\"\n",
        "        urllib.request.urlretrieve(url, tarball_path)\n",
        "    with tarfile.open(tarball_path) as housing_tarball:\n",
        "            housing_tarball.extractall(path=\"datasets\")\n",
        "    return pd.read_csv(Path(\"datasets/housing/housing.csv\"))\n",
        "\n",
        "housing = load_housing_data()"
      ]
    },
    {
      "cell_type": "markdown",
      "metadata": {
        "id": "hbePmTwOTC2u"
      },
      "source": [
        "## Take a Quick Look at the Data Structure"
      ]
    },
    {
      "cell_type": "code",
      "execution_count": null,
      "metadata": {
        "id": "vUotaaOGTC2v"
      },
      "outputs": [],
      "source": [
        "housing.head()"
      ]
    },
    {
      "cell_type": "code",
      "execution_count": null,
      "metadata": {
        "id": "7k381n0TTC2w"
      },
      "outputs": [],
      "source": [
        "housing.info()"
      ]
    },
    {
      "cell_type": "code",
      "execution_count": null,
      "metadata": {
        "id": "_hSQSFLFTC2x"
      },
      "outputs": [],
      "source": [
        "housing[\"ocean_proximity\"].value_counts()"
      ]
    },
    {
      "cell_type": "code",
      "execution_count": null,
      "metadata": {
        "id": "ST0AaJm9TC2y"
      },
      "outputs": [],
      "source": [
        "housing.describe()"
      ]
    },
    {
      "cell_type": "markdown",
      "metadata": {
        "id": "lzaKDjauTC2z"
      },
      "source": [
        "The following cell is not shown either in the book. It creates the `images/end_to_end_project` folder (if it doesn't already exist), and it defines the `save_fig()` function which is used through this notebook to save the figures in high-res for the book."
      ]
    },
    {
      "cell_type": "code",
      "execution_count": null,
      "metadata": {
        "id": "5eguShg1TC2z"
      },
      "outputs": [],
      "source": [
        "# extra code – code to save the figures as high-res PNGs for the book\n",
        "\n",
        "IMAGES_PATH = Path() / \"images\" / \"end_to_end_project\"\n",
        "IMAGES_PATH.mkdir(parents=True, exist_ok=True)\n",
        "\n",
        "def save_fig(fig_id, tight_layout=True, fig_extension=\"png\", resolution=300):\n",
        "    path = IMAGES_PATH / f\"{fig_id}.{fig_extension}\"\n",
        "    if tight_layout:\n",
        "        plt.tight_layout()\n",
        "    plt.savefig(path, format=fig_extension, dpi=resolution)"
      ]
    },
    {
      "cell_type": "code",
      "execution_count": null,
      "metadata": {
        "id": "9KwmYQ3DTC21"
      },
      "outputs": [],
      "source": [
        "import matplotlib.pyplot as plt\n",
        "\n",
        "# extra code – the next 5 lines define the default font sizes\n",
        "plt.rc('font', size=14)\n",
        "plt.rc('axes', labelsize=14, titlesize=14)\n",
        "plt.rc('legend', fontsize=14)\n",
        "plt.rc('xtick', labelsize=10)\n",
        "plt.rc('ytick', labelsize=10)\n",
        "\n",
        "housing.hist(bins=50, figsize=(12, 8))\n",
        "save_fig(\"attribute_histogram_plots\")  # extra code\n",
        "plt.show()"
      ]
    },
    {
      "cell_type": "markdown",
      "metadata": {
        "id": "JmndPEC2TC22"
      },
      "source": [
        "## Create a Test Set"
      ]
    },
    {
      "cell_type": "code",
      "execution_count": null,
      "metadata": {
        "id": "pY1PWcH0TC22"
      },
      "outputs": [],
      "source": [
        "import numpy as np\n",
        "\n",
        "def shuffle_and_split_data(data, test_ratio):\n",
        "    shuffled_indices = np.random.permutation(len(data))\n",
        "    test_set_size = int(len(data) * test_ratio)\n",
        "    test_indices = shuffled_indices[:test_set_size]\n",
        "    train_indices = shuffled_indices[test_set_size:]\n",
        "    return data.iloc[train_indices], data.iloc[test_indices]"
      ]
    },
    {
      "cell_type": "code",
      "execution_count": null,
      "metadata": {
        "id": "ynYvCegOTC25"
      },
      "outputs": [],
      "source": [
        "train_set, test_set = shuffle_and_split_data(housing, 0.2)\n",
        "len(train_set)"
      ]
    },
    {
      "cell_type": "code",
      "execution_count": null,
      "metadata": {
        "id": "jPNLzwzkTC26"
      },
      "outputs": [],
      "source": [
        "len(test_set)"
      ]
    },
    {
      "cell_type": "markdown",
      "metadata": {
        "id": "9BFVIIARTC26"
      },
      "source": [
        "To ensure that this notebook's outputs remain the same every time we run it, we need to set the random seed:"
      ]
    },
    {
      "cell_type": "code",
      "execution_count": null,
      "metadata": {
        "id": "-XoMnd5fTC27"
      },
      "outputs": [],
      "source": [
        "np.random.seed(42)"
      ]
    },
    {
      "cell_type": "markdown",
      "metadata": {
        "id": "paRPzR6sTC27"
      },
      "source": [
        "Sadly, this won't guarantee that this notebook will output exactly the same results as in the book, since there are other possible sources of variation. The most important is the fact that algorithms get tweaked over time when libraries evolve. So please tolerate some minor differences: hopefully, most of the outputs should be the same, or at least in the right ballpark."
      ]
    },
    {
      "cell_type": "markdown",
      "metadata": {
        "id": "QU0STsLMTC27"
      },
      "source": [
        "Note: another source of randomness is the order of Python sets: it is based on Python's `hash()` function, which is randomly \"salted\" when Python starts up (this started in Python 3.3, to prevent some denial-of-service attacks). To remove this randomness, the solution is to set the `PYTHONHASHSEED` environment variable to `\"0\"` _before_ Python even starts up. Nothing will happen if you do it after that. Luckily, if you're running this notebook on Colab, the variable is already set for you."
      ]
    },
    {
      "cell_type": "code",
      "execution_count": null,
      "metadata": {
        "id": "GTbtevu0TC28"
      },
      "outputs": [],
      "source": [
        "from zlib import crc32\n",
        "\n",
        "def is_id_in_test_set(identifier, test_ratio):\n",
        "    return crc32(np.int64(identifier)) < test_ratio * 2**32\n",
        "\n",
        "def split_data_with_id_hash(data, test_ratio, id_column):\n",
        "    ids = data[id_column]\n",
        "    in_test_set = ids.apply(lambda id_: is_id_in_test_set(id_, test_ratio))\n",
        "    return data.loc[~in_test_set], data.loc[in_test_set]"
      ]
    },
    {
      "cell_type": "code",
      "execution_count": null,
      "metadata": {
        "id": "0dtgumjATC28"
      },
      "outputs": [],
      "source": [
        "housing_with_id = housing.reset_index()  # adds an `index` column\n",
        "train_set, test_set = split_data_with_id_hash(housing_with_id, 0.2, \"index\")"
      ]
    },
    {
      "cell_type": "code",
      "execution_count": null,
      "metadata": {
        "id": "qa_flWcMTC28"
      },
      "outputs": [],
      "source": [
        "housing_with_id[\"id\"] = housing[\"longitude\"] * 1000 + housing[\"latitude\"]\n",
        "train_set, test_set = split_data_with_id_hash(housing_with_id, 0.2, \"id\")"
      ]
    },
    {
      "cell_type": "code",
      "execution_count": null,
      "metadata": {
        "id": "7kJzwDsjTC29"
      },
      "outputs": [],
      "source": [
        "from sklearn.model_selection import train_test_split\n",
        "\n",
        "train_set, test_set = train_test_split(housing, test_size=0.2, random_state=42)"
      ]
    },
    {
      "cell_type": "code",
      "execution_count": null,
      "metadata": {
        "id": "NxjRRLGZTC29"
      },
      "outputs": [],
      "source": [
        "test_set[\"total_bedrooms\"].isnull().sum()"
      ]
    },
    {
      "cell_type": "markdown",
      "metadata": {
        "id": "IKxWsG7TTC2-"
      },
      "source": [
        "To find the probability that a random sample of 1,000 people contains less than 48.5% female or more than 53.5% female when the population's female ratio is 51.1%, we use the [binomial distribution](https://en.wikipedia.org/wiki/Binomial_distribution). The `cdf()` method of the binomial distribution gives us the probability that the number of females will be equal or less than the given value."
      ]
    },
    {
      "cell_type": "code",
      "execution_count": null,
      "metadata": {
        "id": "8CYxcIESTC2_"
      },
      "outputs": [],
      "source": [
        "# extra code – shows how to compute the 10.7% proba of getting a bad sample\n",
        "\n",
        "from scipy.stats import binom\n",
        "\n",
        "sample_size = 1000\n",
        "ratio_female = 0.511\n",
        "proba_too_small = binom(sample_size, ratio_female).cdf(485 - 1)\n",
        "proba_too_large = 1 - binom(sample_size, ratio_female).cdf(535)\n",
        "print(proba_too_small + proba_too_large)"
      ]
    },
    {
      "cell_type": "markdown",
      "metadata": {
        "id": "kXkTPrWoTC3A"
      },
      "source": [
        "If you prefer simulations over maths, here's how you could get roughly the same result:"
      ]
    },
    {
      "cell_type": "code",
      "execution_count": null,
      "metadata": {
        "id": "RRip89guTC3A"
      },
      "outputs": [],
      "source": [
        "# extra code – shows another way to estimate the probability of bad sample\n",
        "\n",
        "np.random.seed(42)\n",
        "\n",
        "samples = (np.random.rand(100_000, sample_size) < ratio_female).sum(axis=1)\n",
        "((samples < 485) | (samples > 535)).mean()"
      ]
    },
    {
      "cell_type": "code",
      "execution_count": null,
      "metadata": {
        "id": "e9Vo8wSJTC3B"
      },
      "outputs": [],
      "source": [
        "housing[\"income_cat\"] = pd.cut(housing[\"median_income\"],\n",
        "                               bins=[0., 1.5, 3.0, 4.5, 6., np.inf],\n",
        "                               labels=[1, 2, 3, 4, 5])"
      ]
    },
    {
      "cell_type": "code",
      "execution_count": null,
      "metadata": {
        "id": "67Y56E6YTC3B"
      },
      "outputs": [],
      "source": [
        "housing[\"income_cat\"].value_counts().sort_index().plot.bar(rot=0, grid=True)\n",
        "plt.xlabel(\"Income category\")\n",
        "plt.ylabel(\"Number of districts\")\n",
        "save_fig(\"housing_income_cat_bar_plot\")  # extra code\n",
        "plt.show()"
      ]
    },
    {
      "cell_type": "code",
      "execution_count": null,
      "metadata": {
        "id": "lvcK774zTC3K"
      },
      "outputs": [],
      "source": [
        "from sklearn.model_selection import StratifiedShuffleSplit\n",
        "\n",
        "splitter = StratifiedShuffleSplit(n_splits=10, test_size=0.2, random_state=42)\n",
        "strat_splits = []\n",
        "for train_index, test_index in splitter.split(housing, housing[\"income_cat\"]):\n",
        "    strat_train_set_n = housing.iloc[train_index]\n",
        "    strat_test_set_n = housing.iloc[test_index]\n",
        "    strat_splits.append([strat_train_set_n, strat_test_set_n])"
      ]
    },
    {
      "cell_type": "code",
      "execution_count": null,
      "metadata": {
        "id": "vsIE7FgoTC3K"
      },
      "outputs": [],
      "source": [
        "strat_train_set, strat_test_set = strat_splits[0]"
      ]
    },
    {
      "cell_type": "markdown",
      "metadata": {
        "id": "JVrTPXl4TC3L"
      },
      "source": [
        "It's much shorter to get a single stratified split:"
      ]
    },
    {
      "cell_type": "code",
      "execution_count": null,
      "metadata": {
        "id": "j1SoD2QXTC3L"
      },
      "outputs": [],
      "source": [
        "strat_train_set, strat_test_set = train_test_split(\n",
        "    housing, test_size=0.2, stratify=housing[\"income_cat\"], random_state=42)"
      ]
    },
    {
      "cell_type": "code",
      "execution_count": null,
      "metadata": {
        "id": "gtxMxfRxTC3M"
      },
      "outputs": [],
      "source": [
        "strat_test_set[\"income_cat\"].value_counts() / len(strat_test_set)"
      ]
    },
    {
      "cell_type": "code",
      "execution_count": null,
      "metadata": {
        "id": "aJzIs-FYTC3M"
      },
      "outputs": [],
      "source": [
        "# extra code – computes the data for Figure 2–10\n",
        "\n",
        "def income_cat_proportions(data):\n",
        "    return data[\"income_cat\"].value_counts() / len(data)\n",
        "\n",
        "train_set, test_set = train_test_split(housing, test_size=0.2, random_state=42)\n",
        "\n",
        "compare_props = pd.DataFrame({\n",
        "    \"Overall %\": income_cat_proportions(housing),\n",
        "    \"Stratified %\": income_cat_proportions(strat_test_set),\n",
        "    \"Random %\": income_cat_proportions(test_set),\n",
        "}).sort_index()\n",
        "compare_props.index.name = \"Income Category\"\n",
        "compare_props[\"Strat. Error %\"] = (compare_props[\"Stratified %\"] /\n",
        "                                   compare_props[\"Overall %\"] - 1)\n",
        "compare_props[\"Rand. Error %\"] = (compare_props[\"Random %\"] /\n",
        "                                  compare_props[\"Overall %\"] - 1)\n",
        "(compare_props * 100).round(2)"
      ]
    },
    {
      "cell_type": "code",
      "execution_count": null,
      "metadata": {
        "id": "ohC65wigTC3M"
      },
      "outputs": [],
      "source": [
        "for set_ in (strat_train_set, strat_test_set):\n",
        "    set_.drop(\"income_cat\", axis=1, inplace=True)"
      ]
    },
    {
      "cell_type": "markdown",
      "metadata": {
        "id": "9s0HJFM5TC3N"
      },
      "source": [
        "# Discover and Visualize the Data to Gain Insights"
      ]
    },
    {
      "cell_type": "code",
      "execution_count": null,
      "metadata": {
        "id": "A-iMD3JBTC3N"
      },
      "outputs": [],
      "source": [
        "housing = strat_train_set.copy()"
      ]
    },
    {
      "cell_type": "markdown",
      "metadata": {
        "id": "52gslrN5TC3O"
      },
      "source": [
        "## Visualizing Geographical Data"
      ]
    },
    {
      "cell_type": "code",
      "execution_count": null,
      "metadata": {
        "id": "gCcSm7sJTC3O"
      },
      "outputs": [],
      "source": [
        "housing.plot(kind=\"scatter\", x=\"longitude\", y=\"latitude\", grid=True)\n",
        "save_fig(\"bad_visualization_plot\")  # extra code\n",
        "plt.show()"
      ]
    },
    {
      "cell_type": "code",
      "execution_count": null,
      "metadata": {
        "id": "jdGxQ0_ATC3P"
      },
      "outputs": [],
      "source": [
        "housing.plot(kind=\"scatter\", x=\"longitude\", y=\"latitude\", grid=True, alpha=0.2)\n",
        "save_fig(\"better_visualization_plot\")  # extra code\n",
        "plt.show()"
      ]
    },
    {
      "cell_type": "code",
      "execution_count": null,
      "metadata": {
        "id": "cJsto_4fTC3P"
      },
      "outputs": [],
      "source": [
        "housing.plot(kind=\"scatter\", x=\"longitude\", y=\"latitude\", grid=True,\n",
        "             s=housing[\"population\"] / 100, label=\"population\",\n",
        "             c=\"median_house_value\", cmap=\"jet\", colorbar=True,\n",
        "             legend=True, sharex=False, figsize=(10, 7))\n",
        "save_fig(\"housing_prices_scatterplot\")  # extra code\n",
        "plt.show()"
      ]
    },
    {
      "cell_type": "markdown",
      "metadata": {
        "id": "a-SK7nLXTC3Q"
      },
      "source": [
        "The argument `sharex=False` fixes a display bug: without it, the x-axis values and label are not displayed (see: https://github.com/pandas-dev/pandas/issues/10611)."
      ]
    },
    {
      "cell_type": "markdown",
      "metadata": {
        "id": "yqs8cXNlTC3R"
      },
      "source": [
        "The next cell generates the first figure in the chapter (this code is not in the book). It's just a beautified version of the previous figure, with an image of California added in the background, nicer label names and no grid."
      ]
    },
    {
      "cell_type": "code",
      "execution_count": null,
      "metadata": {
        "id": "y4zgqTT5TC3R"
      },
      "outputs": [],
      "source": [
        "# extra code – this cell generates the first figure in the chapter\n",
        "\n",
        "# Download the California image\n",
        "filename = \"california.png\"\n",
        "if not (IMAGES_PATH / filename).is_file():\n",
        "    homl3_root = \"https://github.com/ageron/handson-ml3/raw/main/\"\n",
        "    url = homl3_root + \"images/end_to_end_project/\" + filename\n",
        "    print(\"Downloading\", filename)\n",
        "    urllib.request.urlretrieve(url, IMAGES_PATH / filename)\n",
        "\n",
        "housing_renamed = housing.rename(columns={\n",
        "    \"latitude\": \"Latitude\", \"longitude\": \"Longitude\",\n",
        "    \"population\": \"Population\",\n",
        "    \"median_house_value\": \"Median house value (ᴜsᴅ)\"})\n",
        "housing_renamed.plot(\n",
        "             kind=\"scatter\", x=\"Longitude\", y=\"Latitude\",\n",
        "             s=housing_renamed[\"Population\"] / 100, label=\"Population\",\n",
        "             c=\"Median house value (ᴜsᴅ)\", cmap=\"jet\", colorbar=True,\n",
        "             legend=True, sharex=False, figsize=(10, 7))\n",
        "\n",
        "california_img = plt.imread(IMAGES_PATH / filename)\n",
        "axis = -124.55, -113.95, 32.45, 42.05\n",
        "plt.axis(axis)\n",
        "plt.imshow(california_img, extent=axis)\n",
        "\n",
        "save_fig(\"california_housing_prices_plot\")\n",
        "plt.show()"
      ]
    },
    {
      "cell_type": "markdown",
      "metadata": {
        "id": "XRJegrCRTC3R"
      },
      "source": [
        "## Looking for Correlations"
      ]
    },
    {
      "cell_type": "markdown",
      "metadata": {
        "id": "CnBubQ2gTC3S"
      },
      "source": [
        "Note: since Pandas 2.0.0, the `numeric_only` argument defaults to `False`, so we need to set it explicitly to True to avoid an error."
      ]
    },
    {
      "cell_type": "code",
      "execution_count": null,
      "metadata": {
        "id": "uBKnChLGTC3S"
      },
      "outputs": [],
      "source": [
        "corr_matrix = housing.corr(numeric_only=True)"
      ]
    },
    {
      "cell_type": "code",
      "execution_count": null,
      "metadata": {
        "id": "VjC0Um0RTC3T"
      },
      "outputs": [],
      "source": [
        "corr_matrix[\"median_house_value\"].sort_values(ascending=False)"
      ]
    },
    {
      "cell_type": "code",
      "execution_count": null,
      "metadata": {
        "id": "ZkMDlwY0TC3U"
      },
      "outputs": [],
      "source": [
        "from pandas.plotting import scatter_matrix\n",
        "\n",
        "attributes = [\"median_house_value\", \"median_income\", \"total_rooms\",\n",
        "              \"housing_median_age\"]\n",
        "scatter_matrix(housing[attributes], figsize=(12, 8))\n",
        "save_fig(\"scatter_matrix_plot\")  # extra code\n",
        "plt.show()"
      ]
    },
    {
      "cell_type": "code",
      "execution_count": null,
      "metadata": {
        "id": "3PCe-F5wTC3V"
      },
      "outputs": [],
      "source": [
        "housing.plot(kind=\"scatter\", x=\"median_income\", y=\"median_house_value\",\n",
        "             alpha=0.1, grid=True)\n",
        "save_fig(\"income_vs_house_value_scatterplot\")  # extra code\n",
        "plt.show()"
      ]
    },
    {
      "cell_type": "markdown",
      "metadata": {
        "id": "cVOoPaTJTC3W"
      },
      "source": [
        "## Experimenting with Attribute Combinations"
      ]
    },
    {
      "cell_type": "code",
      "execution_count": null,
      "metadata": {
        "id": "WmOqsA-0TC3W"
      },
      "outputs": [],
      "source": [
        "housing[\"rooms_per_house\"] = housing[\"total_rooms\"] / housing[\"households\"]\n",
        "housing[\"bedrooms_ratio\"] = housing[\"total_bedrooms\"] / housing[\"total_rooms\"]\n",
        "housing[\"people_per_house\"] = housing[\"population\"] / housing[\"households\"]"
      ]
    },
    {
      "cell_type": "code",
      "execution_count": null,
      "metadata": {
        "id": "wzdBZiVqTC3X"
      },
      "outputs": [],
      "source": [
        "corr_matrix = housing.corr(numeric_only=True)\n",
        "corr_matrix[\"median_house_value\"].sort_values(ascending=False)"
      ]
    },
    {
      "cell_type": "markdown",
      "metadata": {
        "id": "vvTv5l9MTC3Y"
      },
      "source": [
        "# Prepare the Data for Machine Learning Algorithms"
      ]
    },
    {
      "cell_type": "markdown",
      "metadata": {
        "id": "Wj1EQZFbTC3Z"
      },
      "source": [
        "Let's revert to the original training set and separate the target (note that `strat_train_set.drop()` creates a copy of `strat_train_set` without the column, it doesn't actually modify `strat_train_set` itself, unless you pass `inplace=True`):"
      ]
    },
    {
      "cell_type": "code",
      "execution_count": null,
      "metadata": {
        "id": "rDh2xmqZTC3Z"
      },
      "outputs": [],
      "source": [
        "housing = strat_train_set.drop(\"median_house_value\", axis=1)\n",
        "housing_labels = strat_train_set[\"median_house_value\"].copy()"
      ]
    },
    {
      "cell_type": "markdown",
      "metadata": {
        "id": "q9-94JYdTC3a"
      },
      "source": [
        "## Data Cleaning"
      ]
    },
    {
      "cell_type": "markdown",
      "metadata": {
        "id": "MTlMhhFhTC3a"
      },
      "source": [
        "In the book 3 options are listed to handle the NaN values:\n",
        "\n",
        "```python\n",
        "housing.dropna(subset=[\"total_bedrooms\"], inplace=True)    # option 1\n",
        "\n",
        "housing.drop(\"total_bedrooms\", axis=1)       # option 2\n",
        "\n",
        "median = housing[\"total_bedrooms\"].median()  # option 3\n",
        "housing[\"total_bedrooms\"].fillna(median, inplace=True)\n",
        "```\n",
        "\n",
        "For each option, we'll create a copy of `housing` and work on that copy to avoid breaking `housing`. We'll also show the output of each option, but filtering on the rows that originally contained a NaN value."
      ]
    },
    {
      "cell_type": "code",
      "execution_count": null,
      "metadata": {
        "id": "6UcqofLwTC3a"
      },
      "outputs": [],
      "source": [
        "null_rows_idx = housing.isnull().any(axis=1)\n",
        "housing.loc[null_rows_idx].head()"
      ]
    },
    {
      "cell_type": "code",
      "execution_count": null,
      "metadata": {
        "id": "dOXqkCUATC3b"
      },
      "outputs": [],
      "source": [
        "housing_option1 = housing.copy()\n",
        "\n",
        "housing_option1.dropna(subset=[\"total_bedrooms\"], inplace=True)  # option 1\n",
        "\n",
        "housing_option1.loc[null_rows_idx].head()"
      ]
    },
    {
      "cell_type": "code",
      "execution_count": null,
      "metadata": {
        "id": "OeG95LmsTC3b"
      },
      "outputs": [],
      "source": [
        "housing_option2 = housing.copy()\n",
        "\n",
        "housing_option2.drop(\"total_bedrooms\", axis=1, inplace=True)  # option 2\n",
        "\n",
        "housing_option2.loc[null_rows_idx].head()"
      ]
    },
    {
      "cell_type": "code",
      "execution_count": null,
      "metadata": {
        "id": "aCB8PSB7TC3c"
      },
      "outputs": [],
      "source": [
        "housing_option3 = housing.copy()\n",
        "\n",
        "median = housing[\"total_bedrooms\"].median()\n",
        "housing_option3[\"total_bedrooms\"].fillna(median, inplace=True)  # option 3\n",
        "\n",
        "housing_option3.loc[null_rows_idx].head()"
      ]
    },
    {
      "cell_type": "code",
      "execution_count": null,
      "metadata": {
        "id": "a2W26ACQTC3d"
      },
      "outputs": [],
      "source": [
        "from sklearn.impute import SimpleImputer\n",
        "\n",
        "imputer = SimpleImputer(strategy=\"median\")"
      ]
    },
    {
      "cell_type": "markdown",
      "metadata": {
        "id": "3N1ZnoXaTC3d"
      },
      "source": [
        "Separating out the numerical attributes to use the `\"median\"` strategy (as it cannot be calculated on text attributes like `ocean_proximity`):"
      ]
    },
    {
      "cell_type": "code",
      "execution_count": null,
      "metadata": {
        "id": "Dbgl-DEFTC3d"
      },
      "outputs": [],
      "source": [
        "housing_num = housing.select_dtypes(include=[np.number])"
      ]
    },
    {
      "cell_type": "code",
      "execution_count": null,
      "metadata": {
        "id": "7DWzjqtzTC3e"
      },
      "outputs": [],
      "source": [
        "imputer.fit(housing_num)"
      ]
    },
    {
      "cell_type": "code",
      "execution_count": null,
      "metadata": {
        "id": "DK_KsQCDTC3f"
      },
      "outputs": [],
      "source": [
        "imputer.statistics_"
      ]
    },
    {
      "cell_type": "markdown",
      "metadata": {
        "id": "J8jtA0loTC3g"
      },
      "source": [
        "Check that this is the same as manually computing the median of each attribute:"
      ]
    },
    {
      "cell_type": "code",
      "execution_count": null,
      "metadata": {
        "id": "ZLh8sAX1TC3g"
      },
      "outputs": [],
      "source": [
        "housing_num.median().values"
      ]
    },
    {
      "cell_type": "markdown",
      "metadata": {
        "id": "K3wxlDwuTC3h"
      },
      "source": [
        "Transform the training set:"
      ]
    },
    {
      "cell_type": "code",
      "execution_count": null,
      "metadata": {
        "id": "__430vIOTC3h"
      },
      "outputs": [],
      "source": [
        "X = imputer.transform(housing_num)"
      ]
    },
    {
      "cell_type": "code",
      "execution_count": null,
      "metadata": {
        "id": "isKq5PESTC3i"
      },
      "outputs": [],
      "source": [
        "imputer.feature_names_in_"
      ]
    },
    {
      "cell_type": "code",
      "execution_count": null,
      "metadata": {
        "id": "2c0ZdI4YTC3i"
      },
      "outputs": [],
      "source": [
        "housing_tr = pd.DataFrame(X, columns=housing_num.columns,\n",
        "                          index=housing_num.index)"
      ]
    },
    {
      "cell_type": "code",
      "execution_count": null,
      "metadata": {
        "id": "diPpNlZbTC3j"
      },
      "outputs": [],
      "source": [
        "housing_tr.loc[null_rows_idx].head()"
      ]
    },
    {
      "cell_type": "code",
      "execution_count": null,
      "metadata": {
        "id": "cWM-TBi-TC3k"
      },
      "outputs": [],
      "source": [
        "imputer.strategy"
      ]
    },
    {
      "cell_type": "code",
      "execution_count": null,
      "metadata": {
        "id": "V8eCQZ14TC3l"
      },
      "outputs": [],
      "source": [
        "housing_tr = pd.DataFrame(X, columns=housing_num.columns,\n",
        "                          index=housing_num.index)"
      ]
    },
    {
      "cell_type": "code",
      "execution_count": null,
      "metadata": {
        "id": "J0ezItt4TC3m"
      },
      "outputs": [],
      "source": [
        "housing_tr.loc[null_rows_idx].head()  # not shown in the book"
      ]
    },
    {
      "cell_type": "code",
      "execution_count": null,
      "metadata": {
        "id": "8-6h10ZYTC3m"
      },
      "outputs": [],
      "source": [
        "#from sklearn import set_config\n",
        "#\n",
        "# set_config(transform_output=\"pandas\")  # scikit-learn >= 1.2"
      ]
    },
    {
      "cell_type": "markdown",
      "metadata": {
        "id": "fGOHNaKPTC3n"
      },
      "source": [
        "Now let's drop some outliers:"
      ]
    },
    {
      "cell_type": "code",
      "execution_count": null,
      "metadata": {
        "id": "OyxrcOUnTC3o"
      },
      "outputs": [],
      "source": [
        "from sklearn.ensemble import IsolationForest\n",
        "\n",
        "isolation_forest = IsolationForest(random_state=42)\n",
        "outlier_pred = isolation_forest.fit_predict(X)"
      ]
    },
    {
      "cell_type": "code",
      "execution_count": null,
      "metadata": {
        "id": "VMyv9_HOTC3p"
      },
      "outputs": [],
      "source": [
        "outlier_pred"
      ]
    },
    {
      "cell_type": "markdown",
      "metadata": {
        "id": "1uIurl_-TC3p"
      },
      "source": [
        "If you wanted to drop outliers, you would run the following code:"
      ]
    },
    {
      "cell_type": "code",
      "execution_count": null,
      "metadata": {
        "id": "pOW4RD-kTC3q"
      },
      "outputs": [],
      "source": [
        "#housing = housing.iloc[outlier_pred == 1]\n",
        "#housing_labels = housing_labels.iloc[outlier_pred == 1]"
      ]
    },
    {
      "cell_type": "markdown",
      "metadata": {
        "id": "DwCqBYcJTC3q"
      },
      "source": [
        "## Handling Text and Categorical Attributes"
      ]
    },
    {
      "cell_type": "markdown",
      "metadata": {
        "id": "GvsW740RTC3r"
      },
      "source": [
        "Now let's preprocess the categorical input feature, `ocean_proximity`:"
      ]
    },
    {
      "cell_type": "code",
      "execution_count": null,
      "metadata": {
        "id": "L39wR_m2TC3r"
      },
      "outputs": [],
      "source": [
        "housing_cat = housing[[\"ocean_proximity\"]]\n",
        "housing_cat.head(8)"
      ]
    },
    {
      "cell_type": "code",
      "execution_count": null,
      "metadata": {
        "id": "a_LCfIFqTC3r"
      },
      "outputs": [],
      "source": [
        "from sklearn.preprocessing import OrdinalEncoder\n",
        "\n",
        "ordinal_encoder = OrdinalEncoder()\n",
        "housing_cat_encoded = ordinal_encoder.fit_transform(housing_cat)"
      ]
    },
    {
      "cell_type": "code",
      "execution_count": null,
      "metadata": {
        "id": "JS2LE1MpTC3s"
      },
      "outputs": [],
      "source": [
        "housing_cat_encoded[:8]"
      ]
    },
    {
      "cell_type": "code",
      "execution_count": null,
      "metadata": {
        "id": "c3DdNZ1TTC3t"
      },
      "outputs": [],
      "source": [
        "ordinal_encoder.categories_"
      ]
    },
    {
      "cell_type": "code",
      "execution_count": null,
      "metadata": {
        "id": "ZN8SvjoLTC3t"
      },
      "outputs": [],
      "source": [
        "from sklearn.preprocessing import OneHotEncoder\n",
        "\n",
        "cat_encoder = OneHotEncoder()\n",
        "housing_cat_1hot = cat_encoder.fit_transform(housing_cat)"
      ]
    },
    {
      "cell_type": "code",
      "execution_count": null,
      "metadata": {
        "id": "UbMMqHDTTC3u"
      },
      "outputs": [],
      "source": [
        "housing_cat_1hot"
      ]
    },
    {
      "cell_type": "markdown",
      "metadata": {
        "id": "fQegTnuBTC3u"
      },
      "source": [
        "By default, the `OneHotEncoder` class returns a sparse array, but we can convert it to a dense array if needed by calling the `toarray()` method:"
      ]
    },
    {
      "cell_type": "code",
      "execution_count": null,
      "metadata": {
        "id": "2iIWkMWmTC3v"
      },
      "outputs": [],
      "source": [
        "housing_cat_1hot.toarray()"
      ]
    },
    {
      "cell_type": "markdown",
      "metadata": {
        "id": "eRtVdErLTC3w"
      },
      "source": [
        "Alternatively, you can set `sparse_output=False` when creating the `OneHotEncoder` (note: the `sparse` hyperparameter was renamned to `sparse_output` in Scikit-Learn 1.2):"
      ]
    },
    {
      "cell_type": "code",
      "execution_count": null,
      "metadata": {
        "id": "YJThG_akTC3w"
      },
      "outputs": [],
      "source": [
        "cat_encoder = OneHotEncoder(sparse_output=False)\n",
        "housing_cat_1hot = cat_encoder.fit_transform(housing_cat)\n",
        "housing_cat_1hot"
      ]
    },
    {
      "cell_type": "code",
      "execution_count": null,
      "metadata": {
        "id": "vYpk195XTC3w"
      },
      "outputs": [],
      "source": [
        "cat_encoder.categories_"
      ]
    },
    {
      "cell_type": "code",
      "execution_count": null,
      "metadata": {
        "id": "8qJehpywTC3y"
      },
      "outputs": [],
      "source": [
        "df_test = pd.DataFrame({\"ocean_proximity\": [\"INLAND\", \"NEAR BAY\"]})\n",
        "pd.get_dummies(df_test)"
      ]
    },
    {
      "cell_type": "code",
      "execution_count": null,
      "metadata": {
        "id": "QeiKoeQUTC3z"
      },
      "outputs": [],
      "source": [
        "cat_encoder.transform(df_test)"
      ]
    },
    {
      "cell_type": "code",
      "execution_count": null,
      "metadata": {
        "id": "Ri-buZKPTC3z"
      },
      "outputs": [],
      "source": [
        "df_test_unknown = pd.DataFrame({\"ocean_proximity\": [\"<2H OCEAN\", \"ISLAND\"]})\n",
        "pd.get_dummies(df_test_unknown)"
      ]
    },
    {
      "cell_type": "code",
      "execution_count": null,
      "metadata": {
        "id": "ckpkcpegTC30"
      },
      "outputs": [],
      "source": [
        "cat_encoder.handle_unknown = \"ignore\"\n",
        "cat_encoder.transform(df_test_unknown)"
      ]
    },
    {
      "cell_type": "code",
      "execution_count": null,
      "metadata": {
        "id": "m3tRGkmtTC31"
      },
      "outputs": [],
      "source": [
        "cat_encoder.feature_names_in_"
      ]
    },
    {
      "cell_type": "code",
      "execution_count": null,
      "metadata": {
        "id": "GC0RtJuRTC32"
      },
      "outputs": [],
      "source": [
        "cat_encoder.get_feature_names_out()"
      ]
    },
    {
      "cell_type": "code",
      "execution_count": null,
      "metadata": {
        "id": "MbtJYvRgTC32"
      },
      "outputs": [],
      "source": [
        "df_output = pd.DataFrame(cat_encoder.transform(df_test_unknown),\n",
        "                         columns=cat_encoder.get_feature_names_out(),\n",
        "                         index=df_test_unknown.index)"
      ]
    },
    {
      "cell_type": "code",
      "execution_count": null,
      "metadata": {
        "id": "hDHgR-G7TC33"
      },
      "outputs": [],
      "source": [
        "df_output"
      ]
    },
    {
      "cell_type": "markdown",
      "metadata": {
        "id": "PPoyMO-uTC33"
      },
      "source": [
        "## Feature Scaling"
      ]
    },
    {
      "cell_type": "code",
      "execution_count": null,
      "metadata": {
        "id": "pVM8EZBLTC34"
      },
      "outputs": [],
      "source": [
        "from sklearn.preprocessing import MinMaxScaler\n",
        "\n",
        "min_max_scaler = MinMaxScaler(feature_range=(-1, 1))\n",
        "housing_num_min_max_scaled = min_max_scaler.fit_transform(housing_num)"
      ]
    },
    {
      "cell_type": "code",
      "execution_count": null,
      "metadata": {
        "id": "JyoKD0lATC34"
      },
      "outputs": [],
      "source": [
        "from sklearn.preprocessing import StandardScaler\n",
        "\n",
        "std_scaler = StandardScaler()\n",
        "housing_num_std_scaled = std_scaler.fit_transform(housing_num)"
      ]
    },
    {
      "cell_type": "code",
      "execution_count": null,
      "metadata": {
        "id": "wdAIPfQTTC35"
      },
      "outputs": [],
      "source": [
        "# extra code – this cell generates Figure 2–17\n",
        "fig, axs = plt.subplots(1, 2, figsize=(8, 3), sharey=True)\n",
        "housing[\"population\"].hist(ax=axs[0], bins=50)\n",
        "housing[\"population\"].apply(np.log).hist(ax=axs[1], bins=50)\n",
        "axs[0].set_xlabel(\"Population\")\n",
        "axs[1].set_xlabel(\"Log of population\")\n",
        "axs[0].set_ylabel(\"Number of districts\")\n",
        "save_fig(\"long_tail_plot\")\n",
        "plt.show()"
      ]
    },
    {
      "cell_type": "markdown",
      "metadata": {
        "id": "tEVig1ClTC37"
      },
      "source": [
        "What if we replace each value with its percentile?"
      ]
    },
    {
      "cell_type": "code",
      "execution_count": null,
      "metadata": {
        "id": "ljpx9Qd5TC37"
      },
      "outputs": [],
      "source": [
        "# extra code – just shows that we get a uniform distribution\n",
        "percentiles = [np.percentile(housing[\"median_income\"], p)\n",
        "               for p in range(1, 100)]\n",
        "flattened_median_income = pd.cut(housing[\"median_income\"],\n",
        "                                 bins=[-np.inf] + percentiles + [np.inf],\n",
        "                                 labels=range(1, 100 + 1))\n",
        "flattened_median_income.hist(bins=50)\n",
        "plt.xlabel(\"Median income percentile\")\n",
        "plt.ylabel(\"Number of districts\")\n",
        "plt.show()\n",
        "# Note: incomes below the 1st percentile are labeled 1, and incomes above the\n",
        "# 99th percentile are labeled 100. This is why the distribution below ranges\n",
        "# from 1 to 100 (not 0 to 100)."
      ]
    },
    {
      "cell_type": "code",
      "execution_count": null,
      "metadata": {
        "id": "QwO9c3_rTC38"
      },
      "outputs": [],
      "source": [
        "from sklearn.metrics.pairwise import rbf_kernel\n",
        "\n",
        "age_simil_35 = rbf_kernel(housing[[\"housing_median_age\"]], [[35]], gamma=0.1)"
      ]
    },
    {
      "cell_type": "code",
      "execution_count": null,
      "metadata": {
        "id": "_92t88jHTC38"
      },
      "outputs": [],
      "source": [
        "# extra code – this cell generates Figure 2–18\n",
        "\n",
        "ages = np.linspace(housing[\"housing_median_age\"].min(),\n",
        "                   housing[\"housing_median_age\"].max(),\n",
        "                   500).reshape(-1, 1)\n",
        "gamma1 = 0.1\n",
        "gamma2 = 0.03\n",
        "rbf1 = rbf_kernel(ages, [[35]], gamma=gamma1)\n",
        "rbf2 = rbf_kernel(ages, [[35]], gamma=gamma2)\n",
        "\n",
        "fig, ax1 = plt.subplots()\n",
        "\n",
        "ax1.set_xlabel(\"Housing median age\")\n",
        "ax1.set_ylabel(\"Number of districts\")\n",
        "ax1.hist(housing[\"housing_median_age\"], bins=50)\n",
        "\n",
        "ax2 = ax1.twinx()  # create a twin axis that shares the same x-axis\n",
        "color = \"blue\"\n",
        "ax2.plot(ages, rbf1, color=color, label=\"gamma = 0.10\")\n",
        "ax2.plot(ages, rbf2, color=color, label=\"gamma = 0.03\", linestyle=\"--\")\n",
        "ax2.tick_params(axis='y', labelcolor=color)\n",
        "ax2.set_ylabel(\"Age similarity\", color=color)\n",
        "\n",
        "plt.legend(loc=\"upper left\")\n",
        "save_fig(\"age_similarity_plot\")\n",
        "plt.show()"
      ]
    },
    {
      "cell_type": "code",
      "execution_count": null,
      "metadata": {
        "id": "70qXae5tTC39"
      },
      "outputs": [],
      "source": [
        "from sklearn.linear_model import LinearRegression\n",
        "\n",
        "target_scaler = StandardScaler()\n",
        "scaled_labels = target_scaler.fit_transform(housing_labels.to_frame())\n",
        "\n",
        "model = LinearRegression()\n",
        "model.fit(housing[[\"median_income\"]], scaled_labels)\n",
        "some_new_data = housing[[\"median_income\"]].iloc[:5]  # pretend this is new data\n",
        "\n",
        "scaled_predictions = model.predict(some_new_data)\n",
        "predictions = target_scaler.inverse_transform(scaled_predictions)"
      ]
    },
    {
      "cell_type": "code",
      "execution_count": null,
      "metadata": {
        "id": "bnqzZJMzTC3-"
      },
      "outputs": [],
      "source": [
        "predictions"
      ]
    },
    {
      "cell_type": "code",
      "execution_count": null,
      "metadata": {
        "id": "dh_TbrulTC3-"
      },
      "outputs": [],
      "source": [
        "from sklearn.compose import TransformedTargetRegressor\n",
        "\n",
        "model = TransformedTargetRegressor(LinearRegression(),\n",
        "                                   transformer=StandardScaler())\n",
        "model.fit(housing[[\"median_income\"]], housing_labels)\n",
        "predictions = model.predict(some_new_data)"
      ]
    },
    {
      "cell_type": "code",
      "execution_count": null,
      "metadata": {
        "id": "Jea1V1oiTC3_"
      },
      "outputs": [],
      "source": [
        "predictions"
      ]
    },
    {
      "cell_type": "markdown",
      "metadata": {
        "id": "Te6GSIAMTC4A"
      },
      "source": [
        "## Custom Transformers"
      ]
    },
    {
      "cell_type": "markdown",
      "metadata": {
        "id": "WMQOBsHBTC4B"
      },
      "source": [
        "To create simple transformers:"
      ]
    },
    {
      "cell_type": "code",
      "execution_count": null,
      "metadata": {
        "id": "mlrC1K0DTC4B"
      },
      "outputs": [],
      "source": [
        "from sklearn.preprocessing import FunctionTransformer\n",
        "\n",
        "log_transformer = FunctionTransformer(np.log, inverse_func=np.exp)\n",
        "log_pop = log_transformer.transform(housing[[\"population\"]])"
      ]
    },
    {
      "cell_type": "code",
      "execution_count": null,
      "metadata": {
        "id": "eUq1j-gbTC4B"
      },
      "outputs": [],
      "source": [
        "rbf_transformer = FunctionTransformer(rbf_kernel,\n",
        "                                      kw_args=dict(Y=[[35.]], gamma=0.1))\n",
        "age_simil_35 = rbf_transformer.transform(housing[[\"housing_median_age\"]])"
      ]
    },
    {
      "cell_type": "code",
      "execution_count": null,
      "metadata": {
        "id": "79JAtVv8TC4C"
      },
      "outputs": [],
      "source": [
        "age_simil_35"
      ]
    },
    {
      "cell_type": "code",
      "execution_count": null,
      "metadata": {
        "id": "boj2JUHBTC4D"
      },
      "outputs": [],
      "source": [
        "sf_coords = 37.7749, -122.41\n",
        "sf_transformer = FunctionTransformer(rbf_kernel,\n",
        "                                     kw_args=dict(Y=[sf_coords], gamma=0.1))\n",
        "sf_simil = sf_transformer.transform(housing[[\"latitude\", \"longitude\"]])"
      ]
    },
    {
      "cell_type": "code",
      "execution_count": null,
      "metadata": {
        "id": "jZFPqZF-TC4E"
      },
      "outputs": [],
      "source": [
        "sf_simil"
      ]
    },
    {
      "cell_type": "code",
      "execution_count": null,
      "metadata": {
        "id": "zXv1ynTuTC4F"
      },
      "outputs": [],
      "source": [
        "ratio_transformer = FunctionTransformer(lambda X: X[:, [0]] / X[:, [1]])\n",
        "ratio_transformer.transform(np.array([[1., 2.], [3., 4.]]))"
      ]
    },
    {
      "cell_type": "code",
      "execution_count": null,
      "metadata": {
        "id": "_megRGxGTC4F"
      },
      "outputs": [],
      "source": [
        "from sklearn.base import BaseEstimator, TransformerMixin\n",
        "from sklearn.utils.validation import check_array, check_is_fitted\n",
        "\n",
        "class StandardScalerClone(BaseEstimator, TransformerMixin):\n",
        "    def __init__(self, with_mean=True):  # no *args or **kwargs!\n",
        "        self.with_mean = with_mean\n",
        "\n",
        "    def fit(self, X, y=None):  # y is required even though we don't use it\n",
        "        X = check_array(X)  # checks that X is an array with finite float values\n",
        "        self.mean_ = X.mean(axis=0)\n",
        "        self.scale_ = X.std(axis=0)\n",
        "        self.n_features_in_ = X.shape[1]  # every estimator stores this in fit()\n",
        "        return self  # always return self!\n",
        "\n",
        "    def transform(self, X):\n",
        "        check_is_fitted(self)  # looks for learned attributes (with trailing _)\n",
        "        X = check_array(X)\n",
        "        assert self.n_features_in_ == X.shape[1]\n",
        "        if self.with_mean:\n",
        "            X = X - self.mean_\n",
        "        return X / self.scale_"
      ]
    },
    {
      "cell_type": "code",
      "execution_count": null,
      "metadata": {
        "id": "HCMEGKt8TC4G"
      },
      "outputs": [],
      "source": [
        "from sklearn.cluster import KMeans\n",
        "\n",
        "class ClusterSimilarity(BaseEstimator, TransformerMixin):\n",
        "    def __init__(self, n_clusters=10, gamma=1.0, random_state=None):\n",
        "        self.n_clusters = n_clusters\n",
        "        self.gamma = gamma\n",
        "        self.random_state = random_state\n",
        "\n",
        "    def fit(self, X, y=None, sample_weight=None):\n",
        "        self.kmeans_ = KMeans(self.n_clusters, n_init=10,\n",
        "                              random_state=self.random_state)\n",
        "        self.kmeans_.fit(X, sample_weight=sample_weight)\n",
        "        return self  # always return self!\n",
        "\n",
        "    def transform(self, X):\n",
        "        return rbf_kernel(X, self.kmeans_.cluster_centers_, gamma=self.gamma)\n",
        "\n",
        "    def get_feature_names_out(self, names=None):\n",
        "        return [f\"Cluster {i} similarity\" for i in range(self.n_clusters)]"
      ]
    },
    {
      "cell_type": "markdown",
      "metadata": {
        "id": "HBLvAdPiTC4H"
      },
      "source": [
        "**Warning**:\n",
        "* There was a change in Scikit-Learn 1.3.0 which affected the random number generator for `KMeans` initialization. Therefore the results will be different than in the book if you use Scikit-Learn ≥ 1.3. That's not a problem as long as you don't expect the outputs to be perfectly identical.\n",
        "* Throughout this notebook, when `n_init` was not set when creating a `KMeans` estimator, I explicitly set it to `n_init=10` to avoid a warning about the fact that the default value for this hyperparameter will change from 10 to `\"auto\"` in Scikit-Learn 1.4.\n",
        "* The book was unclear about the fact that setting `sample_weight=housing_labels` was only meant as an example, it's not actually used during training. So I remove the `sample_weight` argument below, and the next figure corresponds to the clusters actually used during training (unlike Figure 2-19 in the book). Sorry if this caused any confusion!"
      ]
    },
    {
      "cell_type": "code",
      "execution_count": null,
      "metadata": {
        "id": "dcmvFCoWTC4H"
      },
      "outputs": [],
      "source": [
        "cluster_simil = ClusterSimilarity(n_clusters=10, gamma=1., random_state=42)\n",
        "similarities = cluster_simil.fit_transform(housing[[\"latitude\", \"longitude\"]])"
      ]
    },
    {
      "cell_type": "code",
      "execution_count": null,
      "metadata": {
        "id": "09E42AS0TC4I"
      },
      "outputs": [],
      "source": [
        "similarities[:3].round(2)"
      ]
    },
    {
      "cell_type": "code",
      "execution_count": null,
      "metadata": {
        "id": "wcZaWs16TC4I"
      },
      "outputs": [],
      "source": [
        "# extra code – this cell generates Figure 2–19\n",
        "\n",
        "housing_renamed = housing.rename(columns={\n",
        "    \"latitude\": \"Latitude\", \"longitude\": \"Longitude\",\n",
        "    \"population\": \"Population\",\n",
        "    \"median_house_value\": \"Median house value (ᴜsᴅ)\"})\n",
        "housing_renamed[\"Max cluster similarity\"] = similarities.max(axis=1)\n",
        "\n",
        "housing_renamed.plot(kind=\"scatter\", x=\"Longitude\", y=\"Latitude\", grid=True,\n",
        "                     s=housing_renamed[\"Population\"] / 100, label=\"Population\",\n",
        "                     c=\"Max cluster similarity\",\n",
        "                     cmap=\"jet\", colorbar=True,\n",
        "                     legend=True, sharex=False, figsize=(10, 7))\n",
        "plt.plot(cluster_simil.kmeans_.cluster_centers_[:, 1],\n",
        "         cluster_simil.kmeans_.cluster_centers_[:, 0],\n",
        "         linestyle=\"\", color=\"black\", marker=\"X\", markersize=20,\n",
        "         label=\"Cluster centers\")\n",
        "plt.legend(loc=\"upper right\")\n",
        "save_fig(\"district_cluster_plot\")\n",
        "plt.show()"
      ]
    },
    {
      "cell_type": "markdown",
      "metadata": {
        "id": "oKJDIlRPTC4L"
      },
      "source": [
        "## Transformation Pipelines"
      ]
    },
    {
      "cell_type": "markdown",
      "metadata": {
        "id": "uIoVCE12TC4M"
      },
      "source": [
        "Now let's build a pipeline to preprocess the numerical attributes:"
      ]
    },
    {
      "cell_type": "code",
      "execution_count": null,
      "metadata": {
        "id": "v2tpnV5pTC4M"
      },
      "outputs": [],
      "source": [
        "from sklearn.pipeline import Pipeline\n",
        "\n",
        "num_pipeline = Pipeline([\n",
        "    (\"impute\", SimpleImputer(strategy=\"median\")),\n",
        "    (\"standardize\", StandardScaler()),\n",
        "])"
      ]
    },
    {
      "cell_type": "code",
      "execution_count": null,
      "metadata": {
        "id": "VT95s2AzTC4N"
      },
      "outputs": [],
      "source": [
        "from sklearn.pipeline import make_pipeline\n",
        "\n",
        "num_pipeline = make_pipeline(SimpleImputer(strategy=\"median\"), StandardScaler())"
      ]
    },
    {
      "cell_type": "code",
      "execution_count": null,
      "metadata": {
        "id": "b3uTK5v4TC4N"
      },
      "outputs": [],
      "source": [
        "from sklearn import set_config\n",
        "\n",
        "set_config(display='diagram')\n",
        "\n",
        "num_pipeline"
      ]
    },
    {
      "cell_type": "code",
      "execution_count": null,
      "metadata": {
        "id": "uXpd_Zg6TC4O"
      },
      "outputs": [],
      "source": [
        "housing_num_prepared = num_pipeline.fit_transform(housing_num)\n",
        "housing_num_prepared[:2].round(2)"
      ]
    },
    {
      "cell_type": "code",
      "execution_count": null,
      "metadata": {
        "id": "eMSYY0EKTC4P"
      },
      "outputs": [],
      "source": [
        "def monkey_patch_get_signature_names_out():\n",
        "    \"\"\"Monkey patch some classes which did not handle get_feature_names_out()\n",
        "       correctly in Scikit-Learn 1.0.*.\"\"\"\n",
        "    from inspect import Signature, signature, Parameter\n",
        "    import pandas as pd\n",
        "    from sklearn.impute import SimpleImputer\n",
        "    from sklearn.pipeline import make_pipeline, Pipeline\n",
        "    from sklearn.preprocessing import FunctionTransformer, StandardScaler\n",
        "\n",
        "    default_get_feature_names_out = StandardScaler.get_feature_names_out\n",
        "\n",
        "    if not hasattr(SimpleImputer, \"get_feature_names_out\"):\n",
        "      print(\"Monkey-patching SimpleImputer.get_feature_names_out()\")\n",
        "      SimpleImputer.get_feature_names_out = default_get_feature_names_out\n",
        "\n",
        "    if not hasattr(FunctionTransformer, \"get_feature_names_out\"):\n",
        "        print(\"Monkey-patching FunctionTransformer.get_feature_names_out()\")\n",
        "        orig_init = FunctionTransformer.__init__\n",
        "        orig_sig = signature(orig_init)\n",
        "\n",
        "        def __init__(*args, feature_names_out=None, **kwargs):\n",
        "            orig_sig.bind(*args, **kwargs)\n",
        "            orig_init(*args, **kwargs)\n",
        "            args[0].feature_names_out = feature_names_out\n",
        "\n",
        "        __init__.__signature__ = Signature(\n",
        "            list(signature(orig_init).parameters.values()) + [\n",
        "                Parameter(\"feature_names_out\", Parameter.KEYWORD_ONLY)])\n",
        "\n",
        "        def get_feature_names_out(self, names=None):\n",
        "            if callable(self.feature_names_out):\n",
        "                return self.feature_names_out(self, names)\n",
        "            assert self.feature_names_out == \"one-to-one\"\n",
        "            return default_get_feature_names_out(self, names)\n",
        "\n",
        "        FunctionTransformer.__init__ = __init__\n",
        "        FunctionTransformer.get_feature_names_out = get_feature_names_out\n",
        "\n",
        "monkey_patch_get_signature_names_out()"
      ]
    },
    {
      "cell_type": "code",
      "execution_count": null,
      "metadata": {
        "id": "ccUw8dWtTC4R"
      },
      "outputs": [],
      "source": [
        "df_housing_num_prepared = pd.DataFrame(\n",
        "    housing_num_prepared, columns=num_pipeline.get_feature_names_out(),\n",
        "    index=housing_num.index)"
      ]
    },
    {
      "cell_type": "code",
      "execution_count": null,
      "metadata": {
        "id": "I5lr_UOSTC4R"
      },
      "outputs": [],
      "source": [
        "df_housing_num_prepared.head(2)  # extra code"
      ]
    },
    {
      "cell_type": "code",
      "execution_count": null,
      "metadata": {
        "id": "l3Z8L8HOTC4S"
      },
      "outputs": [],
      "source": [
        "num_pipeline.steps"
      ]
    },
    {
      "cell_type": "code",
      "execution_count": null,
      "metadata": {
        "id": "OmYz0JgLTC4T"
      },
      "outputs": [],
      "source": [
        "num_pipeline[1]"
      ]
    },
    {
      "cell_type": "code",
      "execution_count": null,
      "metadata": {
        "id": "7oNqebakTC4U"
      },
      "outputs": [],
      "source": [
        "num_pipeline[:-1]"
      ]
    },
    {
      "cell_type": "code",
      "execution_count": null,
      "metadata": {
        "id": "6yZLdmcTTC4V"
      },
      "outputs": [],
      "source": [
        "num_pipeline.named_steps[\"simpleimputer\"]"
      ]
    },
    {
      "cell_type": "code",
      "execution_count": null,
      "metadata": {
        "id": "VfIacLRoTC4W"
      },
      "outputs": [],
      "source": [
        "num_pipeline.set_params(simpleimputer__strategy=\"median\")"
      ]
    },
    {
      "cell_type": "code",
      "execution_count": null,
      "metadata": {
        "id": "yrSpfG4rTC4W"
      },
      "outputs": [],
      "source": [
        "from sklearn.compose import ColumnTransformer\n",
        "\n",
        "num_attribs = [\"longitude\", \"latitude\", \"housing_median_age\", \"total_rooms\",\n",
        "               \"total_bedrooms\", \"population\", \"households\", \"median_income\"]\n",
        "cat_attribs = [\"ocean_proximity\"]\n",
        "\n",
        "cat_pipeline = make_pipeline(\n",
        "    SimpleImputer(strategy=\"most_frequent\"),\n",
        "    OneHotEncoder(handle_unknown=\"ignore\"))\n",
        "\n",
        "preprocessing = ColumnTransformer([\n",
        "    (\"num\", num_pipeline, num_attribs),\n",
        "    (\"cat\", cat_pipeline, cat_attribs),\n",
        "])"
      ]
    },
    {
      "cell_type": "code",
      "execution_count": null,
      "metadata": {
        "id": "5XwEq3BYTC4X"
      },
      "outputs": [],
      "source": [
        "from sklearn.compose import make_column_selector, make_column_transformer\n",
        "\n",
        "preprocessing = make_column_transformer(\n",
        "    (num_pipeline, make_column_selector(dtype_include=np.number)),\n",
        "    (cat_pipeline, make_column_selector(dtype_include=object)),\n",
        ")"
      ]
    },
    {
      "cell_type": "code",
      "execution_count": null,
      "metadata": {
        "id": "b5R5Btx4TC4Y"
      },
      "outputs": [],
      "source": [
        "housing_prepared = preprocessing.fit_transform(housing)"
      ]
    },
    {
      "cell_type": "code",
      "execution_count": null,
      "metadata": {
        "id": "FqZ3WQQETC4Z"
      },
      "outputs": [],
      "source": [
        "# extra code – shows that we can get a DataFrame out if we want\n",
        "housing_prepared_fr = pd.DataFrame(\n",
        "    housing_prepared,\n",
        "    columns=preprocessing.get_feature_names_out(),\n",
        "    index=housing.index)\n",
        "housing_prepared_fr.head(2)"
      ]
    },
    {
      "cell_type": "code",
      "execution_count": null,
      "metadata": {
        "id": "EQosxfyyTC4Z"
      },
      "outputs": [],
      "source": [
        "def column_ratio(X):\n",
        "    return X[:, [0]] / X[:, [1]]\n",
        "\n",
        "def ratio_name(function_transformer, feature_names_in):\n",
        "    return [\"ratio\"]  # feature names out\n",
        "\n",
        "def ratio_pipeline():\n",
        "    return make_pipeline(\n",
        "        SimpleImputer(strategy=\"median\"),\n",
        "        FunctionTransformer(column_ratio, feature_names_out=ratio_name),\n",
        "        StandardScaler())\n",
        "\n",
        "log_pipeline = make_pipeline(\n",
        "    SimpleImputer(strategy=\"median\"),\n",
        "    FunctionTransformer(np.log, feature_names_out=\"one-to-one\"),\n",
        "    StandardScaler())\n",
        "cluster_simil = ClusterSimilarity(n_clusters=10, gamma=1., random_state=42)\n",
        "default_num_pipeline = make_pipeline(SimpleImputer(strategy=\"median\"),\n",
        "                                     StandardScaler())\n",
        "preprocessing = ColumnTransformer([\n",
        "        (\"bedrooms\", ratio_pipeline(), [\"total_bedrooms\", \"total_rooms\"]),\n",
        "        (\"rooms_per_house\", ratio_pipeline(), [\"total_rooms\", \"households\"]),\n",
        "        (\"people_per_house\", ratio_pipeline(), [\"population\", \"households\"]),\n",
        "        (\"log\", log_pipeline, [\"total_bedrooms\", \"total_rooms\", \"population\",\n",
        "                               \"households\", \"median_income\"]),\n",
        "        (\"geo\", cluster_simil, [\"latitude\", \"longitude\"]),\n",
        "        (\"cat\", cat_pipeline, make_column_selector(dtype_include=object)),\n",
        "    ],\n",
        "    remainder=default_num_pipeline)  # one column remaining: housing_median_age"
      ]
    },
    {
      "cell_type": "code",
      "execution_count": null,
      "metadata": {
        "id": "6QX_dbIRTC4b"
      },
      "outputs": [],
      "source": [
        "housing_prepared = preprocessing.fit_transform(housing)\n",
        "housing_prepared.shape"
      ]
    },
    {
      "cell_type": "code",
      "execution_count": null,
      "metadata": {
        "id": "derL30GlTC4c"
      },
      "outputs": [],
      "source": [
        "preprocessing.get_feature_names_out()"
      ]
    },
    {
      "cell_type": "markdown",
      "metadata": {
        "id": "zvKjiujWTC4c"
      },
      "source": [
        "# Select and Train a Model"
      ]
    },
    {
      "cell_type": "markdown",
      "metadata": {
        "id": "fxrE0xgSTC4d"
      },
      "source": [
        "## Training and Evaluating on the Training Set"
      ]
    },
    {
      "cell_type": "code",
      "execution_count": null,
      "metadata": {
        "id": "bhhJL5ObTC4e"
      },
      "outputs": [],
      "source": [
        "from sklearn.linear_model import LinearRegression\n",
        "\n",
        "lin_reg = make_pipeline(preprocessing, LinearRegression())\n",
        "lin_reg.fit(housing, housing_labels)"
      ]
    },
    {
      "cell_type": "markdown",
      "metadata": {
        "id": "YYCeInOATC4f"
      },
      "source": [
        "Let's try the full preprocessing pipeline on a few training instances:"
      ]
    },
    {
      "cell_type": "code",
      "execution_count": null,
      "metadata": {
        "id": "ZlPVoes5TC4p"
      },
      "outputs": [],
      "source": [
        "housing_predictions = lin_reg.predict(housing)\n",
        "housing_predictions[:5].round(-2)  # -2 = rounded to the nearest hundred"
      ]
    },
    {
      "cell_type": "markdown",
      "metadata": {
        "id": "ZM38R2ynTC4q"
      },
      "source": [
        "Compare against the actual values:"
      ]
    },
    {
      "cell_type": "code",
      "execution_count": null,
      "metadata": {
        "id": "OwImvsPTTC4r"
      },
      "outputs": [],
      "source": [
        "housing_labels.iloc[:5].values"
      ]
    },
    {
      "cell_type": "code",
      "execution_count": null,
      "metadata": {
        "id": "ToDBWqanTC4s"
      },
      "outputs": [],
      "source": [
        "# extra code – computes the error ratios discussed in the book\n",
        "error_ratios = housing_predictions[:5].round(-2) / housing_labels.iloc[:5].values - 1\n",
        "print(\", \".join([f\"{100 * ratio:.1f}%\" for ratio in error_ratios]))"
      ]
    },
    {
      "cell_type": "markdown",
      "metadata": {
        "id": "MoBUtehhTC4t"
      },
      "source": [
        "**Warning**: In recent versions of Scikit-Learn, you must use `root_mean_squared_error(labels, predictions)` to compute the RMSE, instead of `mean_squared_error(labels, predictions, squared=False)`. The following `try`/`except` block tries to import `root_mean_squared_error`, and if it fails it just defines it."
      ]
    },
    {
      "cell_type": "code",
      "execution_count": null,
      "metadata": {
        "id": "Hp3xWZYRTC4u"
      },
      "outputs": [],
      "source": [
        "try:\n",
        "    from sklearn.metrics import root_mean_squared_error\n",
        "except ImportError:\n",
        "    from sklearn.metrics import mean_squared_error\n",
        "\n",
        "    def root_mean_squared_error(labels, predictions):\n",
        "        return mean_squared_error(labels, predictions, squared=False)\n",
        "\n",
        "lin_rmse = root_mean_squared_error(housing_labels, housing_predictions)\n",
        "lin_rmse"
      ]
    },
    {
      "cell_type": "code",
      "execution_count": null,
      "metadata": {
        "id": "tYevXvAVTC4u"
      },
      "outputs": [],
      "source": [
        "from sklearn.tree import DecisionTreeRegressor\n",
        "\n",
        "tree_reg = make_pipeline(preprocessing, DecisionTreeRegressor(random_state=42))\n",
        "tree_reg.fit(housing, housing_labels)"
      ]
    },
    {
      "cell_type": "code",
      "execution_count": null,
      "metadata": {
        "id": "nW5Hs0o5TC4v"
      },
      "outputs": [],
      "source": [
        "housing_predictions = tree_reg.predict(housing)\n",
        "tree_rmse = root_mean_squared_error(housing_labels, housing_predictions)\n",
        "tree_rmse"
      ]
    },
    {
      "cell_type": "markdown",
      "metadata": {
        "id": "ZQNyuUXPTC4w"
      },
      "source": [
        "## Better Evaluation Using Cross-Validation"
      ]
    },
    {
      "cell_type": "code",
      "execution_count": null,
      "metadata": {
        "id": "DSHoQgfUTC4w"
      },
      "outputs": [],
      "source": [
        "from sklearn.model_selection import cross_val_score\n",
        "\n",
        "tree_rmses = -cross_val_score(tree_reg, housing, housing_labels,\n",
        "                              scoring=\"neg_root_mean_squared_error\", cv=10)"
      ]
    },
    {
      "cell_type": "code",
      "execution_count": null,
      "metadata": {
        "id": "9_FJwsKuTC4w"
      },
      "outputs": [],
      "source": [
        "pd.Series(tree_rmses).describe()"
      ]
    },
    {
      "cell_type": "code",
      "execution_count": null,
      "metadata": {
        "id": "tP6Od-W4TC4x"
      },
      "outputs": [],
      "source": [
        "# extra code – computes the error stats for the linear model\n",
        "lin_rmses = -cross_val_score(lin_reg, housing, housing_labels,\n",
        "                              scoring=\"neg_root_mean_squared_error\", cv=10)\n",
        "pd.Series(lin_rmses).describe()"
      ]
    },
    {
      "cell_type": "markdown",
      "metadata": {
        "id": "nPBHDca_TC4y"
      },
      "source": [
        "**Warning:** the following cell may take a few minutes to run:"
      ]
    },
    {
      "cell_type": "code",
      "execution_count": null,
      "metadata": {
        "id": "Nx5kskhiTC4y"
      },
      "outputs": [],
      "source": [
        "from sklearn.ensemble import RandomForestRegressor\n",
        "\n",
        "forest_reg = make_pipeline(preprocessing,\n",
        "                           RandomForestRegressor(random_state=42))\n",
        "forest_rmses = -cross_val_score(forest_reg, housing, housing_labels,\n",
        "                                scoring=\"neg_root_mean_squared_error\", cv=10)"
      ]
    },
    {
      "cell_type": "code",
      "execution_count": null,
      "metadata": {
        "id": "TwOKYzl7TC4y"
      },
      "outputs": [],
      "source": [
        "pd.Series(forest_rmses).describe()"
      ]
    },
    {
      "cell_type": "markdown",
      "metadata": {
        "id": "uJPybPzhTC4z"
      },
      "source": [
        "Let's compare this RMSE measured using cross-validation (the \"validation error\") with the RMSE measured on the training set (the \"training error\"):"
      ]
    },
    {
      "cell_type": "code",
      "execution_count": null,
      "metadata": {
        "id": "rFaN2mucTC40"
      },
      "outputs": [],
      "source": [
        "forest_reg.fit(housing, housing_labels)\n",
        "housing_predictions = forest_reg.predict(housing)\n",
        "forest_rmse = root_mean_squared_error(housing_labels, housing_predictions)\n",
        "forest_rmse"
      ]
    },
    {
      "cell_type": "markdown",
      "metadata": {
        "id": "l2t_YSuITC40"
      },
      "source": [
        "The training error is much lower than the validation error, which usually means that the model has overfit the training set. Another possible explanation may be that there's a mismatch between the training data and the validation data, but it's not the case here, since both came from the same dataset that we shuffled and split in two parts."
      ]
    },
    {
      "cell_type": "markdown",
      "metadata": {
        "id": "7tcOwyA3TC41"
      },
      "source": [
        "# Fine-Tune Your Model"
      ]
    },
    {
      "cell_type": "markdown",
      "metadata": {
        "id": "w4KjcryITC41"
      },
      "source": [
        "## Grid Search"
      ]
    },
    {
      "cell_type": "markdown",
      "metadata": {
        "id": "1YPQbKJ1TC41"
      },
      "source": [
        "**Warning:** the following cell may take a few minutes to run:"
      ]
    },
    {
      "cell_type": "code",
      "execution_count": null,
      "metadata": {
        "id": "6qb6tna0TC41"
      },
      "outputs": [],
      "source": [
        "from sklearn.model_selection import GridSearchCV\n",
        "\n",
        "full_pipeline = Pipeline([\n",
        "    (\"preprocessing\", preprocessing),\n",
        "    (\"random_forest\", RandomForestRegressor(random_state=42)),\n",
        "])\n",
        "param_grid = [\n",
        "    {'preprocessing__geo__n_clusters': [5, 8, 10],\n",
        "     'random_forest__max_features': [4, 6, 8]},\n",
        "    {'preprocessing__geo__n_clusters': [10, 15],\n",
        "     'random_forest__max_features': [6, 8, 10]},\n",
        "]\n",
        "grid_search = GridSearchCV(full_pipeline, param_grid, cv=3,\n",
        "                           scoring='neg_root_mean_squared_error')\n",
        "grid_search.fit(housing, housing_labels)"
      ]
    },
    {
      "cell_type": "markdown",
      "metadata": {
        "id": "kRPMZL_fTC42"
      },
      "source": [
        "You can get the full list of hyperparameters available for tuning by looking at `full_pipeline.get_params().keys()`:"
      ]
    },
    {
      "cell_type": "code",
      "execution_count": null,
      "metadata": {
        "id": "Pm76QBP8TC43"
      },
      "outputs": [],
      "source": [
        "# extra code – shows part of the output of get_params().keys()\n",
        "print(str(full_pipeline.get_params().keys())[:1000] + \"...\")"
      ]
    },
    {
      "cell_type": "markdown",
      "metadata": {
        "id": "rtKYBFmETC44"
      },
      "source": [
        "The best hyperparameter combination found:"
      ]
    },
    {
      "cell_type": "code",
      "execution_count": null,
      "metadata": {
        "id": "_FrV-mmuTC45"
      },
      "outputs": [],
      "source": [
        "grid_search.best_params_"
      ]
    },
    {
      "cell_type": "code",
      "execution_count": null,
      "metadata": {
        "id": "FFyifXG3TC46"
      },
      "outputs": [],
      "source": [
        "grid_search.best_estimator_"
      ]
    },
    {
      "cell_type": "markdown",
      "metadata": {
        "id": "2kzbLwMpTC46"
      },
      "source": [
        "Let's look at the score of each hyperparameter combination tested during the grid search:"
      ]
    },
    {
      "cell_type": "code",
      "execution_count": null,
      "metadata": {
        "id": "K94iLyICTC46"
      },
      "outputs": [],
      "source": [
        "cv_res = pd.DataFrame(grid_search.cv_results_)\n",
        "cv_res.sort_values(by=\"mean_test_score\", ascending=False, inplace=True)\n",
        "\n",
        "# extra code – these few lines of code just make the DataFrame look nicer\n",
        "cv_res = cv_res[[\"param_preprocessing__geo__n_clusters\",\n",
        "                 \"param_random_forest__max_features\", \"split0_test_score\",\n",
        "                 \"split1_test_score\", \"split2_test_score\", \"mean_test_score\"]]\n",
        "score_cols = [\"split0\", \"split1\", \"split2\", \"mean_test_rmse\"]\n",
        "cv_res.columns = [\"n_clusters\", \"max_features\"] + score_cols\n",
        "cv_res[score_cols] = -cv_res[score_cols].round().astype(np.int64)\n",
        "\n",
        "cv_res.head()"
      ]
    },
    {
      "cell_type": "markdown",
      "metadata": {
        "id": "bIsjXd-OTC47"
      },
      "source": [
        "## Randomized Search"
      ]
    },
    {
      "cell_type": "code",
      "execution_count": null,
      "metadata": {
        "id": "Vfp4S0KRTC49"
      },
      "outputs": [],
      "source": [
        "from sklearn.experimental import enable_halving_search_cv\n",
        "from sklearn.model_selection import HalvingRandomSearchCV"
      ]
    },
    {
      "cell_type": "markdown",
      "metadata": {
        "id": "DQyXXkIxTC4_"
      },
      "source": [
        "Try 30 (`n_iter` × `cv`) random combinations of hyperparameters:"
      ]
    },
    {
      "cell_type": "markdown",
      "metadata": {
        "id": "pr5GiRPwTC5A"
      },
      "source": [
        "**Warning:** the following cell may take a few minutes to run:"
      ]
    },
    {
      "cell_type": "code",
      "execution_count": null,
      "metadata": {
        "id": "BhmGP_0QTC5A"
      },
      "outputs": [],
      "source": [
        "from sklearn.model_selection import RandomizedSearchCV\n",
        "from scipy.stats import randint\n",
        "\n",
        "param_distribs = {'preprocessing__geo__n_clusters': randint(low=3, high=50),\n",
        "                  'random_forest__max_features': randint(low=2, high=20)}\n",
        "\n",
        "rnd_search = RandomizedSearchCV(\n",
        "    full_pipeline, param_distributions=param_distribs, n_iter=10, cv=3,\n",
        "    scoring='neg_root_mean_squared_error', random_state=42)\n",
        "\n",
        "rnd_search.fit(housing, housing_labels)"
      ]
    },
    {
      "cell_type": "code",
      "execution_count": null,
      "metadata": {
        "id": "A3yB2JeFTC5A"
      },
      "outputs": [],
      "source": [
        "# extra code – displays the random search results\n",
        "cv_res = pd.DataFrame(rnd_search.cv_results_)\n",
        "cv_res.sort_values(by=\"mean_test_score\", ascending=False, inplace=True)\n",
        "cv_res = cv_res[[\"param_preprocessing__geo__n_clusters\",\n",
        "                 \"param_random_forest__max_features\", \"split0_test_score\",\n",
        "                 \"split1_test_score\", \"split2_test_score\", \"mean_test_score\"]]\n",
        "cv_res.columns = [\"n_clusters\", \"max_features\"] + score_cols\n",
        "cv_res[score_cols] = -cv_res[score_cols].round().astype(np.int64)\n",
        "cv_res.head()"
      ]
    },
    {
      "cell_type": "markdown",
      "metadata": {
        "id": "WasjIJyWTC5B"
      },
      "source": [
        "**Bonus section: how to choose the sampling distribution for a hyperparameter**\n",
        "\n",
        "* `scipy.stats.randint(a, b+1)`: for hyperparameters with _discrete_ values that range from a to b, and all values in that range seem equally likely.\n",
        "* `scipy.stats.uniform(a, b)`: this is very similar, but for _continuous_ hyperparameters.\n",
        "* `scipy.stats.geom(1 / scale)`: for discrete values, when you want to sample roughly in a given scale. E.g., with scale=1000 most samples will be in this ballpark, but ~10% of all samples will be <100 and ~10% will be >2300.\n",
        "* `scipy.stats.expon(scale)`: this is the continuous equivalent of `geom`. Just set `scale` to the most likely value.\n",
        "* `scipy.stats.loguniform(a, b)`: when you have almost no idea what the optimal hyperparameter value's scale is. If you set a=0.01 and b=100, then you're just as likely to sample a value between 0.01 and 0.1 as a value between 10 and 100.\n"
      ]
    },
    {
      "cell_type": "markdown",
      "metadata": {
        "id": "02TTpRRkTC5B"
      },
      "source": [
        "Here are plots of the probability mass functions (for discrete variables), and probability density functions (for continuous variables) for `randint()`, `uniform()`, `geom()` and `expon()`:"
      ]
    },
    {
      "cell_type": "code",
      "execution_count": null,
      "metadata": {
        "id": "a7ByZPGdTC5C"
      },
      "outputs": [],
      "source": [
        "# extra code – plots a few distributions you can use in randomized search\n",
        "\n",
        "from scipy.stats import randint, uniform, geom, expon\n",
        "\n",
        "xs1 = np.arange(0, 7 + 1)\n",
        "randint_distrib = randint(0, 7 + 1).pmf(xs1)\n",
        "\n",
        "xs2 = np.linspace(0, 7, 500)\n",
        "uniform_distrib = uniform(0, 7).pdf(xs2)\n",
        "\n",
        "xs3 = np.arange(0, 7 + 1)\n",
        "geom_distrib = geom(0.5).pmf(xs3)\n",
        "\n",
        "xs4 = np.linspace(0, 7, 500)\n",
        "expon_distrib = expon(scale=1).pdf(xs4)\n",
        "\n",
        "plt.figure(figsize=(12, 7))\n",
        "\n",
        "plt.subplot(2, 2, 1)\n",
        "plt.bar(xs1, randint_distrib, label=\"scipy.randint(0, 7 + 1)\")\n",
        "plt.ylabel(\"Probability\")\n",
        "plt.legend()\n",
        "plt.axis([-1, 8, 0, 0.2])\n",
        "\n",
        "plt.subplot(2, 2, 2)\n",
        "plt.fill_between(xs2, uniform_distrib, label=\"scipy.uniform(0, 7)\")\n",
        "plt.ylabel(\"PDF\")\n",
        "plt.legend()\n",
        "plt.axis([-1, 8, 0, 0.2])\n",
        "\n",
        "plt.subplot(2, 2, 3)\n",
        "plt.bar(xs3, geom_distrib, label=\"scipy.geom(0.5)\")\n",
        "plt.xlabel(\"Hyperparameter value\")\n",
        "plt.ylabel(\"Probability\")\n",
        "plt.legend()\n",
        "plt.axis([0, 7, 0, 1])\n",
        "\n",
        "plt.subplot(2, 2, 4)\n",
        "plt.fill_between(xs4, expon_distrib, label=\"scipy.expon(scale=1)\")\n",
        "plt.xlabel(\"Hyperparameter value\")\n",
        "plt.ylabel(\"PDF\")\n",
        "plt.legend()\n",
        "plt.axis([0, 7, 0, 1])\n",
        "\n",
        "plt.show()"
      ]
    },
    {
      "cell_type": "markdown",
      "metadata": {
        "id": "cq_Yfn87TC5C"
      },
      "source": [
        "Here are the PDF for `expon()` and `loguniform()` (left column), as well as the PDF of log(X) (right column). The right column shows the distribution of hyperparameter _scales_. You can see that `expon()` favors hyperparameters with roughly the desired scale, with a longer tail towards the smaller scales. But `loguniform()` does not favor any scale, they are all equally likely:"
      ]
    },
    {
      "cell_type": "code",
      "execution_count": null,
      "metadata": {
        "id": "8uWkP2vVTC5D"
      },
      "outputs": [],
      "source": [
        "# extra code – shows the difference between expon and loguniform\n",
        "\n",
        "from scipy.stats import loguniform\n",
        "\n",
        "xs1 = np.linspace(0, 7, 500)\n",
        "expon_distrib = expon(scale=1).pdf(xs1)\n",
        "\n",
        "log_xs2 = np.linspace(-5, 3, 500)\n",
        "log_expon_distrib = np.exp(log_xs2 - np.exp(log_xs2))\n",
        "\n",
        "xs3 = np.linspace(0.001, 1000, 500)\n",
        "loguniform_distrib = loguniform(0.001, 1000).pdf(xs3)\n",
        "\n",
        "log_xs4 = np.linspace(np.log(0.001), np.log(1000), 500)\n",
        "log_loguniform_distrib = uniform(np.log(0.001), np.log(1000)).pdf(log_xs4)\n",
        "\n",
        "plt.figure(figsize=(12, 7))\n",
        "\n",
        "plt.subplot(2, 2, 1)\n",
        "plt.fill_between(xs1, expon_distrib,\n",
        "                 label=\"scipy.expon(scale=1)\")\n",
        "plt.ylabel(\"PDF\")\n",
        "plt.legend()\n",
        "plt.axis([0, 7, 0, 1])\n",
        "\n",
        "plt.subplot(2, 2, 2)\n",
        "plt.fill_between(log_xs2, log_expon_distrib,\n",
        "                 label=\"log(X) with X ~ expon\")\n",
        "plt.legend()\n",
        "plt.axis([-5, 3, 0, 1])\n",
        "\n",
        "plt.subplot(2, 2, 3)\n",
        "plt.fill_between(xs3, loguniform_distrib,\n",
        "                 label=\"scipy.loguniform(0.001, 1000)\")\n",
        "plt.xlabel(\"Hyperparameter value\")\n",
        "plt.ylabel(\"PDF\")\n",
        "plt.legend()\n",
        "plt.axis([0.001, 1000, 0, 0.005])\n",
        "\n",
        "plt.subplot(2, 2, 4)\n",
        "plt.fill_between(log_xs4, log_loguniform_distrib,\n",
        "                 label=\"log(X) with X ~ loguniform\")\n",
        "plt.xlabel(\"Log of hyperparameter value\")\n",
        "plt.legend()\n",
        "plt.axis([-8, 1, 0, 0.2])\n",
        "\n",
        "plt.show()"
      ]
    },
    {
      "cell_type": "markdown",
      "metadata": {
        "id": "xW2794iNTC5D"
      },
      "source": [
        "## Analyze the Best Models and Their Errors"
      ]
    },
    {
      "cell_type": "code",
      "execution_count": null,
      "metadata": {
        "id": "DdXOF0JITC5E"
      },
      "outputs": [],
      "source": [
        "final_model = rnd_search.best_estimator_  # includes preprocessing\n",
        "feature_importances = final_model[\"random_forest\"].feature_importances_\n",
        "feature_importances.round(2)"
      ]
    },
    {
      "cell_type": "code",
      "execution_count": null,
      "metadata": {
        "id": "Hcc9U3hqTC5F"
      },
      "outputs": [],
      "source": [
        "sorted(zip(feature_importances,\n",
        "           final_model[\"preprocessing\"].get_feature_names_out()),\n",
        "           reverse=True)"
      ]
    },
    {
      "cell_type": "markdown",
      "metadata": {
        "id": "Abn91xHfTC5F"
      },
      "source": [
        "## Evaluate Your System on the Test Set"
      ]
    },
    {
      "cell_type": "code",
      "execution_count": null,
      "metadata": {
        "id": "S4_k0SBuTC5G"
      },
      "outputs": [],
      "source": [
        "X_test = strat_test_set.drop(\"median_house_value\", axis=1)\n",
        "y_test = strat_test_set[\"median_house_value\"].copy()\n",
        "\n",
        "final_predictions = final_model.predict(X_test)\n",
        "\n",
        "final_rmse = root_mean_squared_error(y_test, final_predictions)\n",
        "print(final_rmse)"
      ]
    },
    {
      "cell_type": "markdown",
      "metadata": {
        "id": "QlLfkkm6TC5H"
      },
      "source": [
        "We can compute a 95% confidence interval for the test RMSE:"
      ]
    },
    {
      "cell_type": "code",
      "execution_count": null,
      "metadata": {
        "id": "0umtHHIVTC5H"
      },
      "outputs": [],
      "source": [
        "from scipy import stats\n",
        "\n",
        "def rmse(squared_errors):\n",
        "    return np.sqrt(np.mean(squared_errors))\n",
        "\n",
        "confidence = 0.95\n",
        "squared_errors = (final_predictions - y_test) ** 2\n",
        "boot_result = stats.bootstrap([squared_errors], rmse,\n",
        "                              confidence_level=confidence, random_state=42)\n",
        "rmse_lower, rmse_upper = boot_result.confidence_interval\n"
      ]
    },
    {
      "cell_type": "code",
      "execution_count": null,
      "metadata": {
        "id": "l_ZYqwpqTC5I"
      },
      "outputs": [],
      "source": [
        "rmse_lower, rmse_upper"
      ]
    },
    {
      "cell_type": "markdown",
      "metadata": {
        "id": "dZnk8KBOTC5J"
      },
      "source": [
        "## Model persistence using joblib"
      ]
    },
    {
      "cell_type": "markdown",
      "metadata": {
        "id": "84b_hXUhTC5J"
      },
      "source": [
        "Save the final model:"
      ]
    },
    {
      "cell_type": "code",
      "execution_count": null,
      "metadata": {
        "id": "YKRdE9-XTC5J"
      },
      "outputs": [],
      "source": [
        "import joblib\n",
        "\n",
        "joblib.dump(final_model, \"my_california_housing_model.pkl\")"
      ]
    },
    {
      "cell_type": "markdown",
      "metadata": {
        "id": "-GcIsSsmTC5K"
      },
      "source": [
        "Now you can deploy this model to production. For example, the following code could be a script that would run in production:"
      ]
    },
    {
      "cell_type": "code",
      "execution_count": null,
      "metadata": {
        "id": "Hsl8_wCRTC5K"
      },
      "outputs": [],
      "source": [
        "import joblib\n",
        "\n",
        "# extra code – excluded for conciseness\n",
        "from sklearn.cluster import KMeans\n",
        "from sklearn.base import BaseEstimator, TransformerMixin\n",
        "from sklearn.metrics.pairwise import rbf_kernel\n",
        "\n",
        "def column_ratio(X):\n",
        "    return X[:, [0]] / X[:, [1]]\n",
        "\n",
        "#class ClusterSimilarity(BaseEstimator, TransformerMixin):\n",
        "#    [...]\n",
        "\n",
        "final_model_reloaded = joblib.load(\"my_california_housing_model.pkl\")\n",
        "\n",
        "new_data = housing.iloc[:5]  # pretend these are new districts\n",
        "predictions = final_model_reloaded.predict(new_data)"
      ]
    },
    {
      "cell_type": "code",
      "execution_count": null,
      "metadata": {
        "id": "FF-G6kf9TC5L"
      },
      "outputs": [],
      "source": [
        "predictions"
      ]
    },
    {
      "cell_type": "markdown",
      "metadata": {
        "id": "FwnXSRIqTC5O"
      },
      "source": [
        "You could use pickle instead, but joblib is more efficient."
      ]
    },
    {
      "cell_type": "markdown",
      "metadata": {
        "id": "rCoGShmnTC5O"
      },
      "source": [
        "# Exercise solutions"
      ]
    },
    {
      "cell_type": "markdown",
      "metadata": {
        "id": "JJQlNRcdTC5P"
      },
      "source": [
        "## 1."
      ]
    },
    {
      "cell_type": "markdown",
      "metadata": {
        "id": "eQNpNYlBTC5Q"
      },
      "source": [
        "Exercise: _Try a Support Vector Machine regressor (`sklearn.svm.SVR`) with various hyperparameters, such as `kernel=\"linear\"` (with various values for the `C` hyperparameter) or `kernel=\"rbf\"` (with various values for the `C` and `gamma` hyperparameters). Note that SVMs don't scale well to large datasets, so you should probably train your model on just the first 5,000 instances of the training set and use only 3-fold cross-validation, or else it will take hours. Don't worry about what the hyperparameters mean for now (see the SVM notebook if you're interested). How does the best `SVR` predictor perform?_"
      ]
    },
    {
      "cell_type": "code",
      "execution_count": null,
      "metadata": {
        "id": "mKKS9fTfTC5Q"
      },
      "outputs": [],
      "source": [
        "from sklearn.model_selection import GridSearchCV\n",
        "from sklearn.svm import SVR\n",
        "\n",
        "param_grid = [\n",
        "        {'svr__kernel': ['linear'], 'svr__C': [10., 30., 100., 300., 1000.,\n",
        "                                               3000., 10000., 30000.0]},\n",
        "        {'svr__kernel': ['rbf'], 'svr__C': [1.0, 3.0, 10., 30., 100., 300.,\n",
        "                                            1000.0],\n",
        "         'svr__gamma': [0.01, 0.03, 0.1, 0.3, 1.0, 3.0]},\n",
        "    ]\n",
        "\n",
        "svr_pipeline = Pipeline([(\"preprocessing\", preprocessing), (\"svr\", SVR())])\n",
        "grid_search = GridSearchCV(svr_pipeline, param_grid, cv=3,\n",
        "                           scoring='neg_root_mean_squared_error')\n",
        "grid_search.fit(housing.iloc[:5000], housing_labels.iloc[:5000])"
      ]
    },
    {
      "cell_type": "markdown",
      "metadata": {
        "id": "vhgPc-VwTC5R"
      },
      "source": [
        "The best model achieves the following score (evaluated using 3-fold cross validation):"
      ]
    },
    {
      "cell_type": "code",
      "execution_count": null,
      "metadata": {
        "id": "PsEwI-pvTC5R"
      },
      "outputs": [],
      "source": [
        "svr_grid_search_rmse = -grid_search.best_score_\n",
        "svr_grid_search_rmse"
      ]
    },
    {
      "cell_type": "markdown",
      "metadata": {
        "id": "BEJ2LOFsTC5S"
      },
      "source": [
        "That's much worse than the `RandomForestRegressor` (but to be fair, we trained the model on much less data). Let's check the best hyperparameters found:"
      ]
    },
    {
      "cell_type": "code",
      "execution_count": null,
      "metadata": {
        "id": "G8jJj_20TC5S"
      },
      "outputs": [],
      "source": [
        "grid_search.best_params_"
      ]
    },
    {
      "cell_type": "markdown",
      "metadata": {
        "id": "wwsOOh9xTC5T"
      },
      "source": [
        "The linear kernel seems better than the RBF kernel. Notice that the value of `C` is the maximum tested value. When this happens you definitely want to launch the grid search again with higher values for `C` (removing the smallest values), because it is likely that higher values of `C` will be better."
      ]
    },
    {
      "cell_type": "markdown",
      "metadata": {
        "id": "s92rTMOYTC5U"
      },
      "source": [
        "## 2."
      ]
    },
    {
      "cell_type": "markdown",
      "metadata": {
        "id": "fK41vUwzTC5U"
      },
      "source": [
        "Exercise: _Try replacing the `GridSearchCV` with a `RandomizedSearchCV`._"
      ]
    },
    {
      "cell_type": "markdown",
      "metadata": {
        "id": "kzO1VwJ5TC5U"
      },
      "source": [
        "**Warning:** the following cell will take several minutes to run. You can specify `verbose=2` when creating the `RandomizedSearchCV` if you want to see the training details."
      ]
    },
    {
      "cell_type": "code",
      "execution_count": null,
      "metadata": {
        "id": "ooi0tvQ3TC5V"
      },
      "outputs": [],
      "source": [
        "from sklearn.model_selection import RandomizedSearchCV\n",
        "from scipy.stats import expon, loguniform\n",
        "\n",
        "# see https://docs.scipy.org/doc/scipy/reference/stats.html\n",
        "# for `expon()` and `loguniform()` documentation and more probability distribution functions.\n",
        "\n",
        "# Note: gamma is ignored when kernel is \"linear\"\n",
        "param_distribs = {\n",
        "        'svr__kernel': ['linear', 'rbf'],\n",
        "        'svr__C': loguniform(20, 200_000),\n",
        "        'svr__gamma': expon(scale=1.0),\n",
        "    }\n",
        "\n",
        "rnd_search = RandomizedSearchCV(svr_pipeline,\n",
        "                                param_distributions=param_distribs,\n",
        "                                n_iter=50, cv=3,\n",
        "                                scoring='neg_root_mean_squared_error',\n",
        "                                random_state=42)\n",
        "rnd_search.fit(housing.iloc[:5000], housing_labels.iloc[:5000])"
      ]
    },
    {
      "cell_type": "markdown",
      "metadata": {
        "id": "-2dhg6CoTC5V"
      },
      "source": [
        "The best model achieves the following score (evaluated using 3-fold cross validation):"
      ]
    },
    {
      "cell_type": "code",
      "execution_count": null,
      "metadata": {
        "id": "B7Ik0YrkTC5V"
      },
      "outputs": [],
      "source": [
        "svr_rnd_search_rmse = -rnd_search.best_score_\n",
        "svr_rnd_search_rmse"
      ]
    },
    {
      "cell_type": "markdown",
      "metadata": {
        "id": "6YqFb1EoTC5W"
      },
      "source": [
        "Now that's really much better, but still far from the `RandomForestRegressor`'s performance. Let's check the best hyperparameters found:"
      ]
    },
    {
      "cell_type": "code",
      "execution_count": null,
      "metadata": {
        "id": "uBY2bfv4TC5X"
      },
      "outputs": [],
      "source": [
        "rnd_search.best_params_"
      ]
    },
    {
      "cell_type": "markdown",
      "metadata": {
        "id": "D8Jy9DxaTC5X"
      },
      "source": [
        "This time the search found a good set of hyperparameters for the RBF kernel. Randomized search tends to find better hyperparameters than grid search in the same amount of time."
      ]
    },
    {
      "cell_type": "markdown",
      "metadata": {
        "id": "D14CAZgHTC5X"
      },
      "source": [
        "Note that we used the `expon()` distribution for `gamma`, with a scale of 1, so `RandomSearch` mostly searched for values roughly of that scale: about 80% of the samples were between 0.1 and 2.3 (roughly 10% were smaller and 10% were larger):"
      ]
    },
    {
      "cell_type": "code",
      "execution_count": null,
      "metadata": {
        "id": "kpzMnqI5TC5Y"
      },
      "outputs": [],
      "source": [
        "np.random.seed(42)\n",
        "\n",
        "s = expon(scale=1).rvs(100_000)  # get 100,000 samples\n",
        "((s > 0.105) & (s < 2.29)).sum() / 100_000"
      ]
    },
    {
      "cell_type": "markdown",
      "metadata": {
        "id": "AgGKeo6ATC5Y"
      },
      "source": [
        "We used the `loguniform()` distribution for `C`, meaning we did not have a clue what the optimal scale of `C` was before running the random search. It explored the range from 20 to 200 just as much as the range from 2,000 to 20,000 or from 20,000 to 200,000."
      ]
    },
    {
      "cell_type": "markdown",
      "metadata": {
        "id": "qqk1Oe-dTC5Y"
      },
      "source": [
        "## 3."
      ]
    },
    {
      "cell_type": "markdown",
      "metadata": {
        "id": "B0gVLzrlTC5Z"
      },
      "source": [
        "Exercise: _Try adding a `SelectFromModel` transformer in the preparation pipeline to select only the most important attributes._"
      ]
    },
    {
      "cell_type": "markdown",
      "metadata": {
        "id": "zRAeDUmHTC5Z"
      },
      "source": [
        "Let's create a new pipeline that runs the previously defined preparation pipeline, and adds a `SelectFromModel` transformer based on a `RandomForestRegressor` before the final regressor:"
      ]
    },
    {
      "cell_type": "code",
      "execution_count": null,
      "metadata": {
        "id": "9KeFeaoHTC5Z"
      },
      "outputs": [],
      "source": [
        "from sklearn.feature_selection import SelectFromModel\n",
        "\n",
        "selector_pipeline = Pipeline([\n",
        "    ('preprocessing', preprocessing),\n",
        "    ('selector', SelectFromModel(RandomForestRegressor(random_state=42),\n",
        "                                 threshold=0.005)),  # min feature importance\n",
        "    ('svr', SVR(C=rnd_search.best_params_[\"svr__C\"],\n",
        "                gamma=rnd_search.best_params_[\"svr__gamma\"],\n",
        "                kernel=rnd_search.best_params_[\"svr__kernel\"])),\n",
        "])"
      ]
    },
    {
      "cell_type": "code",
      "execution_count": null,
      "metadata": {
        "id": "-HbXGzzUTC5a"
      },
      "outputs": [],
      "source": [
        "selector_rmses = -cross_val_score(selector_pipeline,\n",
        "                                  housing.iloc[:5000],\n",
        "                                  housing_labels.iloc[:5000],\n",
        "                                  scoring=\"neg_root_mean_squared_error\",\n",
        "                                  cv=3)\n",
        "pd.Series(selector_rmses).describe()"
      ]
    },
    {
      "cell_type": "markdown",
      "metadata": {
        "id": "osErh90PTC5a"
      },
      "source": [
        "Oh well, feature selection does not seem to help. But maybe that's just because the threshold we used was not optimal. Perhaps try tuning it using random search or grid search?"
      ]
    },
    {
      "cell_type": "markdown",
      "metadata": {
        "id": "nRfbD21rTC5a"
      },
      "source": [
        "## 4."
      ]
    },
    {
      "cell_type": "markdown",
      "metadata": {
        "id": "isMHQFYxTC5b"
      },
      "source": [
        "Exercise: _Try creating a custom transformer that trains a k-Nearest Neighbors regressor (`sklearn.neighbors.KNeighborsRegressor`) in its `fit()` method, and outputs the model's predictions in its `transform()` method. Then add this feature to the preprocessing pipeline, using latitude and longitude as the inputs to this transformer. This will add a feature in the model that corresponds to the housing median price of the nearest districts._"
      ]
    },
    {
      "cell_type": "markdown",
      "metadata": {
        "id": "uRKSz0AYTC5b"
      },
      "source": [
        "Rather than restrict ourselves to k-Nearest Neighbors regressors, let's create a transformer that accepts any regressor. For this, we can extend the `MetaEstimatorMixin` and have a required `estimator` argument in the constructor. The `fit()` method must work on a clone of this estimator, and it must also save `feature_names_in_`. The `MetaEstimatorMixin` will ensure that `estimator` is listed as a required parameters, and it will update `get_params()` and `set_params()` to make the estimator's hyperparameters available for tuning. Lastly, we create a `get_feature_names_out()` method: the output column name is the ..."
      ]
    },
    {
      "cell_type": "code",
      "execution_count": null,
      "metadata": {
        "id": "7hSmT6giTC5b"
      },
      "outputs": [],
      "source": [
        "from sklearn.neighbors import KNeighborsRegressor\n",
        "from sklearn.base import MetaEstimatorMixin, clone\n",
        "from sklearn.utils.validation import check_array\n",
        "\n",
        "class FeatureFromRegressor(MetaEstimatorMixin, TransformerMixin, BaseEstimator):\n",
        "    def __init__(self, estimator):\n",
        "        self.estimator = estimator\n",
        "\n",
        "    def fit(self, X, y=None):\n",
        "        check_array(X)\n",
        "        self.estimator_ = clone(self.estimator)\n",
        "        self.estimator_.fit(X, y)\n",
        "        self.n_features_in_ = self.estimator_.n_features_in_\n",
        "        if hasattr(self.estimator_, \"feature_names_in_\"):\n",
        "            self.feature_names_in_ = self.estimator_.feature_names_in_\n",
        "        return self  # always return self!\n",
        "\n",
        "    def transform(self, X):\n",
        "        check_is_fitted(self)\n",
        "        predictions = self.estimator_.predict(X)\n",
        "        if predictions.ndim == 1:\n",
        "            predictions = predictions.reshape(-1, 1)\n",
        "        return predictions\n",
        "\n",
        "    def get_feature_names_out(self, names=None):\n",
        "        check_is_fitted(self)\n",
        "        n_outputs = getattr(self.estimator_, \"n_outputs_\", 1)\n",
        "        estimator_class_name = self.estimator_.__class__.__name__\n",
        "        estimator_short_name = estimator_class_name.lower().replace(\"_\", \"\")\n",
        "        return [f\"{estimator_short_name}_prediction_{i}\"\n",
        "                for i in range(n_outputs)]"
      ]
    },
    {
      "cell_type": "markdown",
      "metadata": {
        "id": "mvczi8XFTC5c"
      },
      "source": [
        "Let's ensure it complies to Scikit-Learn's API:"
      ]
    },
    {
      "cell_type": "code",
      "execution_count": null,
      "metadata": {
        "id": "cpvZEoNQTC5c"
      },
      "outputs": [],
      "source": [
        "from sklearn.utils.estimator_checks import check_estimator\n",
        "\n",
        "test_results = check_estimator(FeatureFromRegressor(KNeighborsRegressor()))"
      ]
    },
    {
      "cell_type": "markdown",
      "metadata": {
        "id": "IHQD-Z3_TC5d"
      },
      "source": [
        "Good! Now let's test it:"
      ]
    },
    {
      "cell_type": "code",
      "execution_count": null,
      "metadata": {
        "id": "xzdHsraeTC5e"
      },
      "outputs": [],
      "source": [
        "knn_reg = KNeighborsRegressor(n_neighbors=3, weights=\"distance\")\n",
        "knn_transformer = FeatureFromRegressor(knn_reg)\n",
        "geo_features = housing[[\"latitude\", \"longitude\"]]\n",
        "knn_transformer.fit_transform(geo_features, housing_labels)"
      ]
    },
    {
      "cell_type": "markdown",
      "metadata": {
        "id": "10cJ4JkCTC5f"
      },
      "source": [
        "And what does its output feature name look like?"
      ]
    },
    {
      "cell_type": "code",
      "execution_count": null,
      "metadata": {
        "id": "oEQI9iy2TC5g"
      },
      "outputs": [],
      "source": [
        "knn_transformer.get_feature_names_out()"
      ]
    },
    {
      "cell_type": "markdown",
      "metadata": {
        "id": "KPGKjOzvTC5g"
      },
      "source": [
        "Okay, now let's include this transformer in our preprocessing pipeline:"
      ]
    },
    {
      "cell_type": "code",
      "execution_count": null,
      "metadata": {
        "id": "hfPxR9djTC5g"
      },
      "outputs": [],
      "source": [
        "from sklearn.base import clone\n",
        "\n",
        "transformers = [(name, clone(transformer), columns)\n",
        "                for name, transformer, columns in preprocessing.transformers]\n",
        "geo_index = [name for name, _, _ in transformers].index(\"geo\")\n",
        "transformers[geo_index] = (\"geo\", knn_transformer, [\"latitude\", \"longitude\"])\n",
        "\n",
        "new_geo_preprocessing = ColumnTransformer(transformers)"
      ]
    },
    {
      "cell_type": "code",
      "execution_count": null,
      "metadata": {
        "id": "9odpZ9SmTC5h"
      },
      "outputs": [],
      "source": [
        "new_geo_pipeline = Pipeline([\n",
        "    ('preprocessing', new_geo_preprocessing),\n",
        "    ('svr', SVR(C=rnd_search.best_params_[\"svr__C\"],\n",
        "                gamma=rnd_search.best_params_[\"svr__gamma\"],\n",
        "                kernel=rnd_search.best_params_[\"svr__kernel\"])),\n",
        "])"
      ]
    },
    {
      "cell_type": "code",
      "execution_count": null,
      "metadata": {
        "id": "Ncfdv7MpTC5h"
      },
      "outputs": [],
      "source": [
        "new_pipe_rmses = -cross_val_score(new_geo_pipeline,\n",
        "                                  housing.iloc[:5000],\n",
        "                                  housing_labels.iloc[:5000],\n",
        "                                  scoring=\"neg_root_mean_squared_error\",\n",
        "                                  cv=3)\n",
        "pd.Series(new_pipe_rmses).describe()"
      ]
    },
    {
      "cell_type": "markdown",
      "metadata": {
        "id": "bOJ232K2TC5i"
      },
      "source": [
        "Yikes, that's terrible! Apparently the cluster similarity features were much better. But perhaps we should tune the `KNeighborsRegressor`'s hyperparameters? That's what the next exercise is about."
      ]
    },
    {
      "cell_type": "markdown",
      "metadata": {
        "id": "uUWMc3-zTC5i"
      },
      "source": [
        "## 5."
      ]
    },
    {
      "cell_type": "markdown",
      "metadata": {
        "id": "sNbpjz2oTC5i"
      },
      "source": [
        "Exercise: _Automatically explore some preparation options using `RandomSearchCV`._"
      ]
    },
    {
      "cell_type": "code",
      "execution_count": null,
      "metadata": {
        "id": "qP9mNYelTC5j"
      },
      "outputs": [],
      "source": [
        "param_distribs = {\n",
        "    \"preprocessing__geo__estimator__n_neighbors\": range(1, 30),\n",
        "    \"preprocessing__geo__estimator__weights\": [\"distance\", \"uniform\"],\n",
        "    \"svr__C\": loguniform(20, 200_000),\n",
        "    \"svr__gamma\": expon(scale=1.0),\n",
        "}\n",
        "\n",
        "new_geo_rnd_search = RandomizedSearchCV(new_geo_pipeline,\n",
        "                                        param_distributions=param_distribs,\n",
        "                                        n_iter=50,\n",
        "                                        cv=3,\n",
        "                                        scoring='neg_root_mean_squared_error',\n",
        "                                        random_state=42)\n",
        "new_geo_rnd_search.fit(housing.iloc[:5000], housing_labels.iloc[:5000])"
      ]
    },
    {
      "cell_type": "code",
      "execution_count": null,
      "metadata": {
        "id": "UzRbJu_ATC5k"
      },
      "outputs": [],
      "source": [
        "new_geo_rnd_search_rmse = -new_geo_rnd_search.best_score_\n",
        "new_geo_rnd_search_rmse"
      ]
    },
    {
      "cell_type": "markdown",
      "metadata": {
        "id": "6uYNLbyKTC5k"
      },
      "source": [
        "Oh well... at least we tried! It looks like the cluster similarity features are definitely better than the KNN feature. But perhaps you could try having both? And maybe training on the full training set would help as well."
      ]
    },
    {
      "cell_type": "markdown",
      "metadata": {
        "id": "P9Tj_sClTC5l"
      },
      "source": [
        "## 6."
      ]
    },
    {
      "cell_type": "markdown",
      "metadata": {
        "id": "Gf6-VB3STC5l"
      },
      "source": [
        "Exercise: _Try to implement the `StandardScalerClone` class again from scratch, then add support for the `inverse_transform()` method: executing `scaler.inverse_transform(scaler.fit_transform(X))` should return an array very close to `X`. Then add support for feature names: set <code>feature_names_in&#95;</code> in the `fit()` method if the input is a DataFrame. This attribute should be a NumPy array of column names. Lastly, implement the `get_feature_names_out()` method: it should have one optional `input_features=None` argument. If passed, the method should check that its length matches <code>n_features_in&#95;</code>, and it should match <code>feature_names_in&#95;</code> if it is defined, then `input_features` should be returned. If `input_features` is `None`, then the method should return <code>feature_names_in&#95;</code> if it is defined or `np.array([\"x0\", \"x1\", ...])` with length <code>n_features_in&#95;</code> otherwise._"
      ]
    },
    {
      "cell_type": "code",
      "execution_count": null,
      "metadata": {
        "id": "S4OjLYRhTC5m"
      },
      "outputs": [],
      "source": [
        "import numpy as np\n",
        "from sklearn.base import BaseEstimator, TransformerMixin\n",
        "from sklearn.utils.validation import check_is_fitted, validate_data\n",
        "\n",
        "class StandardScalerClone(TransformerMixin, BaseEstimator):\n",
        "    def __init__(self, with_mean=True):  # no *args or **kwargs!\n",
        "        self.with_mean = with_mean\n",
        "\n",
        "    def fit(self, X, y=None):\n",
        "        X = validate_data(self, X, ensure_2d=True)\n",
        "        self.n_features_in_ = X.shape[1]\n",
        "        if self.with_mean:\n",
        "            self.mean_ = np.mean(X, axis=0)\n",
        "        self.scale_ = np.std(X, axis=0, ddof=0)\n",
        "        self.scale_[self.scale_ == 0] = 1  # Avoid division by zero\n",
        "        return self\n",
        "\n",
        "    def transform(self, X):\n",
        "        check_is_fitted(self)\n",
        "        X = validate_data(self, X, ensure_2d=True, reset=False)\n",
        "        if self.with_mean:\n",
        "            X = X - self.mean_\n",
        "        return X / self.scale_\n",
        "\n",
        "    def inverse_transform(self, X):\n",
        "        check_is_fitted(self)\n",
        "        X = validate_data(self, X, ensure_2d=True, reset=False)\n",
        "        X = X * self.scale_\n",
        "        if self.with_mean:\n",
        "            X = X + self.mean_\n",
        "        return X\n",
        "\n",
        "    def get_feature_names_out(self, input_features=None):\n",
        "        if input_features is None:\n",
        "            return getattr(self, \"feature_names_in_\",\n",
        "                           [f\"x{i}\" for i in range(self.n_features_in_)])\n",
        "        else:\n",
        "            if len(input_features) != self.n_features_in_:\n",
        "                raise ValueError(\"Invalid number of features\")\n",
        "            if hasattr(self, \"feature_names_in_\") and not np.all(\n",
        "                self.feature_names_in_ == input_features\n",
        "            ):\n",
        "                raise ValueError(\"input_features ≠ feature_names_in_\")\n",
        "            return input_features"
      ]
    },
    {
      "cell_type": "markdown",
      "metadata": {
        "id": "Ak3f6YPkTC5n"
      },
      "source": [
        "Let's test our custom transformer:"
      ]
    },
    {
      "cell_type": "code",
      "execution_count": null,
      "metadata": {
        "id": "9aS9SxR4TC5n"
      },
      "outputs": [],
      "source": [
        "from sklearn.utils.estimator_checks import check_estimator\n",
        "\n",
        "check_estimator(StandardScalerClone())"
      ]
    },
    {
      "cell_type": "markdown",
      "metadata": {
        "id": "2MNy2L31TC5n"
      },
      "source": [
        "No errors, that's a great start, we respect the Scikit-Learn API."
      ]
    },
    {
      "cell_type": "markdown",
      "metadata": {
        "id": "jjkYchGXTC5o"
      },
      "source": [
        "Now let's ensure the transformation works as expected:"
      ]
    },
    {
      "cell_type": "code",
      "execution_count": null,
      "metadata": {
        "id": "JWHbEfjtTC5o"
      },
      "outputs": [],
      "source": [
        "np.random.seed(42)\n",
        "X = np.random.rand(1000, 3)\n",
        "\n",
        "scaler = StandardScalerClone()\n",
        "X_scaled = scaler.fit_transform(X)\n",
        "\n",
        "assert np.allclose(X_scaled, (X - X.mean(axis=0)) / X.std(axis=0))"
      ]
    },
    {
      "cell_type": "markdown",
      "metadata": {
        "id": "SBNLftLoTC5o"
      },
      "source": [
        "How about setting `with_mean=False`?"
      ]
    },
    {
      "cell_type": "code",
      "execution_count": null,
      "metadata": {
        "id": "T_zXIUQ9TC5p"
      },
      "outputs": [],
      "source": [
        "scaler = StandardScalerClone(with_mean=False)\n",
        "X_scaled_uncentered = scaler.fit_transform(X)\n",
        "\n",
        "assert np.allclose(X_scaled_uncentered, X / X.std(axis=0))"
      ]
    },
    {
      "cell_type": "markdown",
      "metadata": {
        "id": "EJEbrVT5TC5p"
      },
      "source": [
        "And does the inverse work?"
      ]
    },
    {
      "cell_type": "code",
      "execution_count": null,
      "metadata": {
        "id": "TUK1qvbqTC5p"
      },
      "outputs": [],
      "source": [
        "scaler = StandardScalerClone()\n",
        "X_back = scaler.inverse_transform(scaler.fit_transform(X))\n",
        "\n",
        "assert np.allclose(X, X_back)"
      ]
    },
    {
      "cell_type": "markdown",
      "metadata": {
        "id": "qvwiyuYATC5q"
      },
      "source": [
        "How about the feature names out?"
      ]
    },
    {
      "cell_type": "code",
      "execution_count": null,
      "metadata": {
        "id": "eZlroEIHTC5q"
      },
      "outputs": [],
      "source": [
        "assert np.all(scaler.get_feature_names_out() == [\"x0\", \"x1\", \"x2\"])\n",
        "assert np.all(scaler.get_feature_names_out([\"a\", \"b\", \"c\"]) == [\"a\", \"b\", \"c\"])"
      ]
    },
    {
      "cell_type": "markdown",
      "metadata": {
        "id": "wBuBLScbTC5q"
      },
      "source": [
        "And if we fit a DataFrame, are the feature in and out ok?"
      ]
    },
    {
      "cell_type": "code",
      "execution_count": null,
      "metadata": {
        "id": "rrKSH9OpTC5q"
      },
      "outputs": [],
      "source": [
        "df = pd.DataFrame({\"a\": np.random.rand(100), \"b\": np.random.rand(100)})\n",
        "scaler = StandardScalerClone()\n",
        "X_scaled = scaler.fit_transform(df)\n",
        "\n",
        "assert np.all(scaler.feature_names_in_ == [\"a\", \"b\"])\n",
        "assert np.all(scaler.get_feature_names_out() == [\"a\", \"b\"])"
      ]
    },
    {
      "cell_type": "markdown",
      "metadata": {
        "id": "mi65oA1yTC5r"
      },
      "source": [
        "All good! That's all for today! 😀"
      ]
    },
    {
      "cell_type": "markdown",
      "metadata": {
        "id": "Wx0cfIIDTC5s"
      },
      "source": [
        "Congratulations! You already know quite a lot about Machine Learning. :)"
      ]
    }
  ],
  "metadata": {
    "kernelspec": {
      "display_name": "Python 3",
      "language": "python",
      "name": "python3"
    },
    "language_info": {
      "codemirror_mode": {
        "name": "ipython",
        "version": 3
      },
      "file_extension": ".py",
      "mimetype": "text/x-python",
      "name": "python",
      "nbconvert_exporter": "python",
      "pygments_lexer": "ipython3",
      "version": "3.12.11"
    },
    "colab": {
      "provenance": []
    }
  },
  "nbformat": 4,
  "nbformat_minor": 0
}